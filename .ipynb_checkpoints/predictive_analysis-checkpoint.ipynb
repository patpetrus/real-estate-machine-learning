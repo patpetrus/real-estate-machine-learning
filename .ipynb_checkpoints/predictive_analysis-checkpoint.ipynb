{
 "cells": [
  {
   "cell_type": "code",
   "execution_count": 6,
   "metadata": {},
   "outputs": [],
   "source": [
    "import matplotlib.pyplot as plt\n",
    "import numpy as np\n",
    "import pandas as pd\n",
    "from numpy.random import seed\n",
    "seed(1)\n",
    "#import tensorflow\n",
    "from sklearn.preprocessing import LabelEncoder, MinMaxScaler\n",
    "#from tensorflow.keras.utils import to_categorical\n",
    "#from tensorflow.keras.models import Sequential\n",
    "#from tensorflow.keras.layers import Dense"
   ]
  },
  {
   "cell_type": "code",
   "execution_count": 7,
   "metadata": {},
   "outputs": [
    {
     "data": {
      "text/html": [
       "<div>\n",
       "<style scoped>\n",
       "    .dataframe tbody tr th:only-of-type {\n",
       "        vertical-align: middle;\n",
       "    }\n",
       "\n",
       "    .dataframe tbody tr th {\n",
       "        vertical-align: top;\n",
       "    }\n",
       "\n",
       "    .dataframe thead th {\n",
       "        text-align: right;\n",
       "    }\n",
       "</style>\n",
       "<table border=\"1\" class=\"dataframe\">\n",
       "  <thead>\n",
       "    <tr style=\"text-align: right;\">\n",
       "      <th></th>\n",
       "      <th>zip</th>\n",
       "      <th>prop_latitude</th>\n",
       "      <th>prop_longitude</th>\n",
       "      <th>prop_yrbld</th>\n",
       "      <th>prop_landsqft</th>\n",
       "      <th>prop_bldsqft</th>\n",
       "      <th>prop_livingsqft</th>\n",
       "      <th>prop_saledate</th>\n",
       "      <th>prop_saleamt</th>\n",
       "      <th>prop_saledate_prior</th>\n",
       "      <th>prop_saleamt_prior</th>\n",
       "      <th>prop_mtgamt_prior</th>\n",
       "      <th>current financing percent</th>\n",
       "      <th>Prior Financing percent</th>\n",
       "      <th>prop_mtgamt</th>\n",
       "      <th>Duration prior</th>\n",
       "      <th>percentage increase/decrease- prior</th>\n",
       "    </tr>\n",
       "  </thead>\n",
       "  <tbody>\n",
       "    <tr>\n",
       "      <th>0</th>\n",
       "      <td>46217</td>\n",
       "      <td>39.655831</td>\n",
       "      <td>-86.218025</td>\n",
       "      <td>2011</td>\n",
       "      <td>6926.0</td>\n",
       "      <td>2999.0</td>\n",
       "      <td>2399.0</td>\n",
       "      <td>2017-05-08</td>\n",
       "      <td>178407</td>\n",
       "      <td>2011-03-30</td>\n",
       "      <td>156542</td>\n",
       "      <td>154993</td>\n",
       "      <td>0.990101</td>\n",
       "      <td>0.990105</td>\n",
       "      <td>176641.0</td>\n",
       "      <td>2231</td>\n",
       "      <td>0.122557</td>\n",
       "    </tr>\n",
       "    <tr>\n",
       "      <th>1</th>\n",
       "      <td>46268</td>\n",
       "      <td>39.874484</td>\n",
       "      <td>-86.247279</td>\n",
       "      <td>1995</td>\n",
       "      <td>11069.0</td>\n",
       "      <td>3412.0</td>\n",
       "      <td>2350.0</td>\n",
       "      <td>2017-05-18</td>\n",
       "      <td>257500</td>\n",
       "      <td>2007-01-16</td>\n",
       "      <td>206150</td>\n",
       "      <td>155000</td>\n",
       "      <td>0.800000</td>\n",
       "      <td>0.751880</td>\n",
       "      <td>206000.0</td>\n",
       "      <td>3775</td>\n",
       "      <td>0.199417</td>\n",
       "    </tr>\n",
       "    <tr>\n",
       "      <th>2</th>\n",
       "      <td>46217</td>\n",
       "      <td>39.671222</td>\n",
       "      <td>-86.161665</td>\n",
       "      <td>1955</td>\n",
       "      <td>18992.0</td>\n",
       "      <td>2796.0</td>\n",
       "      <td>2152.0</td>\n",
       "      <td>2018-06-15</td>\n",
       "      <td>158980</td>\n",
       "      <td>2015-02-17</td>\n",
       "      <td>159125</td>\n",
       "      <td>127300</td>\n",
       "      <td>0.990099</td>\n",
       "      <td>0.800000</td>\n",
       "      <td>157406.0</td>\n",
       "      <td>1214</td>\n",
       "      <td>-0.000912</td>\n",
       "    </tr>\n",
       "    <tr>\n",
       "      <th>3</th>\n",
       "      <td>46239</td>\n",
       "      <td>39.694670</td>\n",
       "      <td>-86.013174</td>\n",
       "      <td>2006</td>\n",
       "      <td>10759.0</td>\n",
       "      <td>4350.0</td>\n",
       "      <td>2680.0</td>\n",
       "      <td>2016-05-20</td>\n",
       "      <td>293312</td>\n",
       "      <td>2006-08-17</td>\n",
       "      <td>359146</td>\n",
       "      <td>270035</td>\n",
       "      <td>0.800001</td>\n",
       "      <td>0.751881</td>\n",
       "      <td>234650.0</td>\n",
       "      <td>3564</td>\n",
       "      <td>-0.224450</td>\n",
       "    </tr>\n",
       "    <tr>\n",
       "      <th>4</th>\n",
       "      <td>46227</td>\n",
       "      <td>39.670611</td>\n",
       "      <td>-86.125501</td>\n",
       "      <td>1957</td>\n",
       "      <td>13983.0</td>\n",
       "      <td>2966.0</td>\n",
       "      <td>1336.0</td>\n",
       "      <td>2016-03-14</td>\n",
       "      <td>122127</td>\n",
       "      <td>2002-10-23</td>\n",
       "      <td>137056</td>\n",
       "      <td>103050</td>\n",
       "      <td>0.990100</td>\n",
       "      <td>0.751882</td>\n",
       "      <td>120918.0</td>\n",
       "      <td>4891</td>\n",
       "      <td>-0.122242</td>\n",
       "    </tr>\n",
       "  </tbody>\n",
       "</table>\n",
       "</div>"
      ],
      "text/plain": [
       "     zip  prop_latitude  prop_longitude  prop_yrbld  prop_landsqft  \\\n",
       "0  46217      39.655831      -86.218025        2011         6926.0   \n",
       "1  46268      39.874484      -86.247279        1995        11069.0   \n",
       "2  46217      39.671222      -86.161665        1955        18992.0   \n",
       "3  46239      39.694670      -86.013174        2006        10759.0   \n",
       "4  46227      39.670611      -86.125501        1957        13983.0   \n",
       "\n",
       "   prop_bldsqft  prop_livingsqft prop_saledate  prop_saleamt  \\\n",
       "0        2999.0           2399.0    2017-05-08        178407   \n",
       "1        3412.0           2350.0    2017-05-18        257500   \n",
       "2        2796.0           2152.0    2018-06-15        158980   \n",
       "3        4350.0           2680.0    2016-05-20        293312   \n",
       "4        2966.0           1336.0    2016-03-14        122127   \n",
       "\n",
       "  prop_saledate_prior  prop_saleamt_prior  prop_mtgamt_prior  \\\n",
       "0          2011-03-30              156542             154993   \n",
       "1          2007-01-16              206150             155000   \n",
       "2          2015-02-17              159125             127300   \n",
       "3          2006-08-17              359146             270035   \n",
       "4          2002-10-23              137056             103050   \n",
       "\n",
       "   current financing percent  Prior Financing percent  prop_mtgamt  \\\n",
       "0                   0.990101                 0.990105     176641.0   \n",
       "1                   0.800000                 0.751880     206000.0   \n",
       "2                   0.990099                 0.800000     157406.0   \n",
       "3                   0.800001                 0.751881     234650.0   \n",
       "4                   0.990100                 0.751882     120918.0   \n",
       "\n",
       "   Duration prior  percentage increase/decrease- prior  \n",
       "0            2231                             0.122557  \n",
       "1            3775                             0.199417  \n",
       "2            1214                            -0.000912  \n",
       "3            3564                            -0.224450  \n",
       "4            4891                            -0.122242  "
      ]
     },
     "execution_count": 7,
     "metadata": {},
     "output_type": "execute_result"
    }
   ],
   "source": [
    "housing_data = pd.read_excel('final project reduced.xlsx')\n",
    "housing_data.head()"
   ]
  },
  {
   "cell_type": "code",
   "execution_count": 8,
   "metadata": {},
   "outputs": [
    {
     "data": {
      "text/html": [
       "<div>\n",
       "<style scoped>\n",
       "    .dataframe tbody tr th:only-of-type {\n",
       "        vertical-align: middle;\n",
       "    }\n",
       "\n",
       "    .dataframe tbody tr th {\n",
       "        vertical-align: top;\n",
       "    }\n",
       "\n",
       "    .dataframe thead th {\n",
       "        text-align: right;\n",
       "    }\n",
       "</style>\n",
       "<table border=\"1\" class=\"dataframe\">\n",
       "  <thead>\n",
       "    <tr style=\"text-align: right;\">\n",
       "      <th></th>\n",
       "      <th>zip</th>\n",
       "      <th>prop_latitude</th>\n",
       "      <th>prop_longitude</th>\n",
       "      <th>prop_yrbld</th>\n",
       "      <th>prop_landsqft</th>\n",
       "      <th>prop_bldsqft</th>\n",
       "      <th>prop_livingsqft</th>\n",
       "      <th>prop_saledate</th>\n",
       "      <th>prop_saleamt</th>\n",
       "      <th>prop_saledate_prior</th>\n",
       "      <th>prop_saleamt_prior</th>\n",
       "      <th>prop_mtgamt_prior</th>\n",
       "      <th>current financing percent</th>\n",
       "      <th>Prior Financing percent</th>\n",
       "      <th>prop_mtgamt</th>\n",
       "      <th>Duration prior</th>\n",
       "      <th>percentage increase/decrease- prior</th>\n",
       "    </tr>\n",
       "  </thead>\n",
       "  <tbody>\n",
       "    <tr>\n",
       "      <th>0</th>\n",
       "      <td>46217</td>\n",
       "      <td>39.655831</td>\n",
       "      <td>-86.218025</td>\n",
       "      <td>2011</td>\n",
       "      <td>6926.0</td>\n",
       "      <td>2999.0</td>\n",
       "      <td>2399.0</td>\n",
       "      <td>2017-05-08</td>\n",
       "      <td>178407</td>\n",
       "      <td>2011-03-30</td>\n",
       "      <td>156542</td>\n",
       "      <td>154993</td>\n",
       "      <td>0.990101</td>\n",
       "      <td>0.990105</td>\n",
       "      <td>176641.0</td>\n",
       "      <td>2231</td>\n",
       "      <td>0.122557</td>\n",
       "    </tr>\n",
       "    <tr>\n",
       "      <th>1</th>\n",
       "      <td>46268</td>\n",
       "      <td>39.874484</td>\n",
       "      <td>-86.247279</td>\n",
       "      <td>1995</td>\n",
       "      <td>11069.0</td>\n",
       "      <td>3412.0</td>\n",
       "      <td>2350.0</td>\n",
       "      <td>2017-05-18</td>\n",
       "      <td>257500</td>\n",
       "      <td>2007-01-16</td>\n",
       "      <td>206150</td>\n",
       "      <td>155000</td>\n",
       "      <td>0.800000</td>\n",
       "      <td>0.751880</td>\n",
       "      <td>206000.0</td>\n",
       "      <td>3775</td>\n",
       "      <td>0.199417</td>\n",
       "    </tr>\n",
       "    <tr>\n",
       "      <th>2</th>\n",
       "      <td>46217</td>\n",
       "      <td>39.671222</td>\n",
       "      <td>-86.161665</td>\n",
       "      <td>1955</td>\n",
       "      <td>18992.0</td>\n",
       "      <td>2796.0</td>\n",
       "      <td>2152.0</td>\n",
       "      <td>2018-06-15</td>\n",
       "      <td>158980</td>\n",
       "      <td>2015-02-17</td>\n",
       "      <td>159125</td>\n",
       "      <td>127300</td>\n",
       "      <td>0.990099</td>\n",
       "      <td>0.800000</td>\n",
       "      <td>157406.0</td>\n",
       "      <td>1214</td>\n",
       "      <td>-0.000912</td>\n",
       "    </tr>\n",
       "    <tr>\n",
       "      <th>3</th>\n",
       "      <td>46239</td>\n",
       "      <td>39.694670</td>\n",
       "      <td>-86.013174</td>\n",
       "      <td>2006</td>\n",
       "      <td>10759.0</td>\n",
       "      <td>4350.0</td>\n",
       "      <td>2680.0</td>\n",
       "      <td>2016-05-20</td>\n",
       "      <td>293312</td>\n",
       "      <td>2006-08-17</td>\n",
       "      <td>359146</td>\n",
       "      <td>270035</td>\n",
       "      <td>0.800001</td>\n",
       "      <td>0.751881</td>\n",
       "      <td>234650.0</td>\n",
       "      <td>3564</td>\n",
       "      <td>-0.224450</td>\n",
       "    </tr>\n",
       "    <tr>\n",
       "      <th>4</th>\n",
       "      <td>46227</td>\n",
       "      <td>39.670611</td>\n",
       "      <td>-86.125501</td>\n",
       "      <td>1957</td>\n",
       "      <td>13983.0</td>\n",
       "      <td>2966.0</td>\n",
       "      <td>1336.0</td>\n",
       "      <td>2016-03-14</td>\n",
       "      <td>122127</td>\n",
       "      <td>2002-10-23</td>\n",
       "      <td>137056</td>\n",
       "      <td>103050</td>\n",
       "      <td>0.990100</td>\n",
       "      <td>0.751882</td>\n",
       "      <td>120918.0</td>\n",
       "      <td>4891</td>\n",
       "      <td>-0.122242</td>\n",
       "    </tr>\n",
       "  </tbody>\n",
       "</table>\n",
       "</div>"
      ],
      "text/plain": [
       "     zip  prop_latitude  prop_longitude  prop_yrbld  prop_landsqft  \\\n",
       "0  46217      39.655831      -86.218025        2011         6926.0   \n",
       "1  46268      39.874484      -86.247279        1995        11069.0   \n",
       "2  46217      39.671222      -86.161665        1955        18992.0   \n",
       "3  46239      39.694670      -86.013174        2006        10759.0   \n",
       "4  46227      39.670611      -86.125501        1957        13983.0   \n",
       "\n",
       "   prop_bldsqft  prop_livingsqft prop_saledate  prop_saleamt  \\\n",
       "0        2999.0           2399.0    2017-05-08        178407   \n",
       "1        3412.0           2350.0    2017-05-18        257500   \n",
       "2        2796.0           2152.0    2018-06-15        158980   \n",
       "3        4350.0           2680.0    2016-05-20        293312   \n",
       "4        2966.0           1336.0    2016-03-14        122127   \n",
       "\n",
       "  prop_saledate_prior  prop_saleamt_prior  prop_mtgamt_prior  \\\n",
       "0          2011-03-30              156542             154993   \n",
       "1          2007-01-16              206150             155000   \n",
       "2          2015-02-17              159125             127300   \n",
       "3          2006-08-17              359146             270035   \n",
       "4          2002-10-23              137056             103050   \n",
       "\n",
       "   current financing percent  Prior Financing percent  prop_mtgamt  \\\n",
       "0                   0.990101                 0.990105     176641.0   \n",
       "1                   0.800000                 0.751880     206000.0   \n",
       "2                   0.990099                 0.800000     157406.0   \n",
       "3                   0.800001                 0.751881     234650.0   \n",
       "4                   0.990100                 0.751882     120918.0   \n",
       "\n",
       "   Duration prior  percentage increase/decrease- prior  \n",
       "0            2231                             0.122557  \n",
       "1            3775                             0.199417  \n",
       "2            1214                            -0.000912  \n",
       "3            3564                            -0.224450  \n",
       "4            4891                            -0.122242  "
      ]
     },
     "execution_count": 8,
     "metadata": {},
     "output_type": "execute_result"
    }
   ],
   "source": [
    "housing_data = pd.get_dummies(housing_data)\n",
    "housing_data.head()"
   ]
  },
  {
   "cell_type": "code",
   "execution_count": 9,
   "metadata": {},
   "outputs": [
    {
     "data": {
      "text/html": [
       "<div>\n",
       "<style scoped>\n",
       "    .dataframe tbody tr th:only-of-type {\n",
       "        vertical-align: middle;\n",
       "    }\n",
       "\n",
       "    .dataframe tbody tr th {\n",
       "        vertical-align: top;\n",
       "    }\n",
       "\n",
       "    .dataframe thead th {\n",
       "        text-align: right;\n",
       "    }\n",
       "</style>\n",
       "<table border=\"1\" class=\"dataframe\">\n",
       "  <thead>\n",
       "    <tr style=\"text-align: right;\">\n",
       "      <th></th>\n",
       "      <th>zip</th>\n",
       "      <th>prop_yrbld</th>\n",
       "      <th>prop_landsqft</th>\n",
       "      <th>prop_bldsqft</th>\n",
       "      <th>prop_livingsqft</th>\n",
       "      <th>Prior Financing percent</th>\n",
       "      <th>Duration prior</th>\n",
       "      <th>percentage increase/decrease- prior</th>\n",
       "    </tr>\n",
       "  </thead>\n",
       "  <tbody>\n",
       "    <tr>\n",
       "      <th>0</th>\n",
       "      <td>46217</td>\n",
       "      <td>2011</td>\n",
       "      <td>6926.0</td>\n",
       "      <td>2999.0</td>\n",
       "      <td>2399.0</td>\n",
       "      <td>0.990105</td>\n",
       "      <td>2231</td>\n",
       "      <td>0.122557</td>\n",
       "    </tr>\n",
       "    <tr>\n",
       "      <th>1</th>\n",
       "      <td>46268</td>\n",
       "      <td>1995</td>\n",
       "      <td>11069.0</td>\n",
       "      <td>3412.0</td>\n",
       "      <td>2350.0</td>\n",
       "      <td>0.751880</td>\n",
       "      <td>3775</td>\n",
       "      <td>0.199417</td>\n",
       "    </tr>\n",
       "    <tr>\n",
       "      <th>2</th>\n",
       "      <td>46217</td>\n",
       "      <td>1955</td>\n",
       "      <td>18992.0</td>\n",
       "      <td>2796.0</td>\n",
       "      <td>2152.0</td>\n",
       "      <td>0.800000</td>\n",
       "      <td>1214</td>\n",
       "      <td>-0.000912</td>\n",
       "    </tr>\n",
       "    <tr>\n",
       "      <th>3</th>\n",
       "      <td>46239</td>\n",
       "      <td>2006</td>\n",
       "      <td>10759.0</td>\n",
       "      <td>4350.0</td>\n",
       "      <td>2680.0</td>\n",
       "      <td>0.751881</td>\n",
       "      <td>3564</td>\n",
       "      <td>-0.224450</td>\n",
       "    </tr>\n",
       "    <tr>\n",
       "      <th>4</th>\n",
       "      <td>46227</td>\n",
       "      <td>1957</td>\n",
       "      <td>13983.0</td>\n",
       "      <td>2966.0</td>\n",
       "      <td>1336.0</td>\n",
       "      <td>0.751882</td>\n",
       "      <td>4891</td>\n",
       "      <td>-0.122242</td>\n",
       "    </tr>\n",
       "  </tbody>\n",
       "</table>\n",
       "</div>"
      ],
      "text/plain": [
       "     zip  prop_yrbld  prop_landsqft  prop_bldsqft  prop_livingsqft  \\\n",
       "0  46217        2011         6926.0        2999.0           2399.0   \n",
       "1  46268        1995        11069.0        3412.0           2350.0   \n",
       "2  46217        1955        18992.0        2796.0           2152.0   \n",
       "3  46239        2006        10759.0        4350.0           2680.0   \n",
       "4  46227        1957        13983.0        2966.0           1336.0   \n",
       "\n",
       "   Prior Financing percent  Duration prior  \\\n",
       "0                 0.990105            2231   \n",
       "1                 0.751880            3775   \n",
       "2                 0.800000            1214   \n",
       "3                 0.751881            3564   \n",
       "4                 0.751882            4891   \n",
       "\n",
       "   percentage increase/decrease- prior  \n",
       "0                             0.122557  \n",
       "1                             0.199417  \n",
       "2                            -0.000912  \n",
       "3                            -0.224450  \n",
       "4                            -0.122242  "
      ]
     },
     "execution_count": 9,
     "metadata": {},
     "output_type": "execute_result"
    }
   ],
   "source": [
    "housing_data = housing_data.drop(columns=['prop_latitude', 'prop_longitude', 'prop_saledate', 'prop_saleamt', 'prop_saledate_prior', 'prop_saleamt_prior', 'prop_mtgamt_prior', 'current financing percent', 'prop_mtgamt'])\n",
    "housing_data = housing_data.dropna()\n",
    "housing_data.head()"
   ]
  },
  {
   "cell_type": "code",
   "execution_count": 10,
   "metadata": {},
   "outputs": [
    {
     "name": "stdout",
     "output_type": "stream",
     "text": [
      "(18228, 7) (18228, 1)\n"
     ]
    }
   ],
   "source": [
    "X = housing_data[['zip', 'prop_yrbld', 'prop_landsqft', 'prop_bldsqft', 'prop_livingsqft', 'Prior Financing percent', 'percentage increase/decrease- prior']]\n",
    "y = housing_data[\"Duration prior\"].values.reshape(-1, 1)\n",
    "print(X.shape, y.shape)"
   ]
  },
  {
   "cell_type": "code",
   "execution_count": 11,
   "metadata": {},
   "outputs": [],
   "source": [
    "from sklearn.model_selection import train_test_split\n",
    "X_train, X_test, y_train, y_test = train_test_split(X, y, random_state=42)"
   ]
  },
  {
   "cell_type": "code",
   "execution_count": 12,
   "metadata": {},
   "outputs": [],
   "source": [
    "from sklearn.preprocessing import StandardScaler\n",
    "X_scaler = StandardScaler().fit(X_train)\n",
    "y_scaler = StandardScaler().fit(y_train)"
   ]
  },
  {
   "cell_type": "code",
   "execution_count": 13,
   "metadata": {},
   "outputs": [],
   "source": [
    "X_train_scaled = X_scaler.transform(X_train)\n",
    "X_test_scaled = X_scaler.transform(X_test)\n",
    "y_train_scaled = y_scaler.transform(y_train)\n",
    "y_test_scaled = y_scaler.transform(y_test)"
   ]
  },
  {
   "cell_type": "code",
   "execution_count": 14,
   "metadata": {},
   "outputs": [
    {
     "data": {
      "text/plain": [
       "LinearRegression()"
      ]
     },
     "execution_count": 14,
     "metadata": {},
     "output_type": "execute_result"
    }
   ],
   "source": [
    "from sklearn.linear_model import LinearRegression\n",
    "model = LinearRegression()\n",
    "model.fit(X_train_scaled, y_train_scaled)"
   ]
  },
  {
   "cell_type": "code",
   "execution_count": 25,
   "metadata": {},
   "outputs": [
    {
     "data": {
      "text/plain": [
       "0.005893286712618795"
      ]
     },
     "execution_count": 25,
     "metadata": {},
     "output_type": "execute_result"
    }
   ],
   "source": [
    "model.score(X_train_scaled, y_train_scaled)"
   ]
  },
  {
   "cell_type": "markdown",
   "metadata": {},
   "source": [
    "### predictions = model.predict(X_test_scaled)\n",
    "plt.scatter(model.predict(X_train_scaled), model.predict(X_train_scaled) - y_train_scaled, c=\"blue\", label=\"Training Data\")\n",
    "plt.scatter(model.predict(X_test_scaled), model.predict(X_test_scaled) - y_test_scaled, c=\"orange\", label=\"Testing Data\")\n",
    "plt.legend()\n",
    "plt.hlines(y=0, xmin=y_test_scaled.min(), xmax=y_test_scaled.max())\n",
    "plt.title(\"Housing Prediction\")\n",
    "plt.show()"
   ]
  },
  {
   "cell_type": "code",
   "execution_count": 16,
   "metadata": {},
   "outputs": [
    {
     "name": "stdout",
     "output_type": "stream",
     "text": [
      "MSE: 1.0150740074618798, R2: 0.003906816058973028\n"
     ]
    }
   ],
   "source": [
    "from sklearn.metrics import mean_squared_error\n",
    "MSE = mean_squared_error(y_test_scaled, predictions)\n",
    "r2 = model.score(X_test_scaled, y_test_scaled)\n",
    "print(f\"MSE: {MSE}, R2: {r2}\")"
   ]
  },
  {
   "cell_type": "code",
   "execution_count": 17,
   "metadata": {},
   "outputs": [
    {
     "name": "stdout",
     "output_type": "stream",
     "text": [
      "MSE: 1.0150740110435839, R2: 0.003906812544243077\n"
     ]
    }
   ],
   "source": [
    "from sklearn.linear_model import Ridge\n",
    "ridge = Ridge(alpha=.01).fit(X_train_scaled, y_train_scaled)\n",
    "\n",
    "predictions = ridge.predict(X_test_scaled)\n",
    "\n",
    "MSE = mean_squared_error(y_test_scaled, predictions)\n",
    "r2 = ridge.score(X_test_scaled, y_test_scaled)\n",
    "\n",
    "\n",
    "print(f\"MSE: {MSE}, R2: {r2}\")"
   ]
  },
  {
   "cell_type": "code",
   "execution_count": 18,
   "metadata": {},
   "outputs": [
    {
     "name": "stdout",
     "output_type": "stream",
     "text": [
      "MSE: 1.015565916693925, R2: 0.003424105015683576\n"
     ]
    }
   ],
   "source": [
    "from sklearn.linear_model import ElasticNet\n",
    "\n",
    "elasticnet = ElasticNet(alpha=.01).fit(X_train_scaled, y_train_scaled)\n",
    "\n",
    "predictions = elasticnet.predict(X_test_scaled)\n",
    "\n",
    "MSE = mean_squared_error(y_test_scaled, predictions)\n",
    "r2 = elasticnet.score(X_test_scaled, y_test_scaled)\n",
    "\n",
    "print(f\"MSE: {MSE}, R2: {r2}\")"
   ]
  },
  {
   "cell_type": "code",
   "execution_count": 19,
   "metadata": {},
   "outputs": [
    {
     "data": {
      "text/plain": [
       "array([[1178.22527258],\n",
       "       [1161.79587367],\n",
       "       [1107.98939303],\n",
       "       ...,\n",
       "       [1184.86156404],\n",
       "       [1194.82807639],\n",
       "       [1083.69127591]])"
      ]
     },
     "execution_count": 19,
     "metadata": {},
     "output_type": "execute_result"
    }
   ],
   "source": [
    "model.predict(X)"
   ]
  },
  {
   "cell_type": "code",
   "execution_count": 20,
   "metadata": {},
   "outputs": [
    {
     "data": {
      "text/plain": [
       "array([[2231],\n",
       "       [3775],\n",
       "       [1214],\n",
       "       ...,\n",
       "       [1431],\n",
       "       [3173],\n",
       "       [ 576]], dtype=int64)"
      ]
     },
     "execution_count": 20,
     "metadata": {},
     "output_type": "execute_result"
    }
   ],
   "source": [
    "y"
   ]
  },
  {
   "cell_type": "code",
   "execution_count": 24,
   "metadata": {},
   "outputs": [
    {
     "data": {
      "text/plain": [
       "-135.9871658610022"
      ]
     },
     "execution_count": 24,
     "metadata": {},
     "output_type": "execute_result"
    }
   ],
   "source": [
    "model.score(X,y)"
   ]
  },
  {
   "cell_type": "code",
   "execution_count": 36,
   "metadata": {},
   "outputs": [
    {
     "name": "stdout",
     "output_type": "stream",
     "text": [
      "Weight coefficients:  [[ 0.02375049  0.06211026 -0.00570104  0.01449006 -0.02014678  0.00402828\n",
      "   0.02424142]]\n",
      "y-axis intercept:  [-1.96268247e-15]\n"
     ]
    }
   ],
   "source": [
    "print('Weight coefficients: ', model.coef_)\n",
    "print('y-axis intercept: ', model.intercept_)"
   ]
  },
  {
   "cell_type": "code",
   "execution_count": 37,
   "metadata": {},
   "outputs": [
    {
     "name": "stdout",
     "output_type": "stream",
     "text": [
      "Min X Value: [[[46201.          1900.           436.           462.\n",
      "     431.             0.         -2987.02075094]]]\n",
      "Max X Value: [[[4.62900000e+04 2.01800000e+03 4.32629512e+08 2.50040000e+04\n",
      "   1.30340000e+04 8.43611331e+01 9.58841197e-01]]]\n"
     ]
    }
   ],
   "source": [
    "x_min = np.array([[X.min()]])\n",
    "x_max = np.array([[X.max()]])\n",
    "print(f\"Min X Value: {x_min}\")\n",
    "print(f\"Max X Value: {x_max}\")"
   ]
  },
  {
   "cell_type": "code",
   "execution_count": 38,
   "metadata": {},
   "outputs": [
    {
     "ename": "ValueError",
     "evalue": "Found array with dim 3. Estimator expected <= 2.",
     "output_type": "error",
     "traceback": [
      "\u001b[1;31m---------------------------------------------------------------------------\u001b[0m",
      "\u001b[1;31mValueError\u001b[0m                                Traceback (most recent call last)",
      "\u001b[1;32m<ipython-input-38-c5cc9a0bc858>\u001b[0m in \u001b[0;36m<module>\u001b[1;34m\u001b[0m\n\u001b[1;32m----> 1\u001b[1;33m \u001b[0my_min\u001b[0m \u001b[1;33m=\u001b[0m \u001b[0mmodel\u001b[0m\u001b[1;33m.\u001b[0m\u001b[0mpredict\u001b[0m\u001b[1;33m(\u001b[0m\u001b[0mx_min\u001b[0m\u001b[1;33m)\u001b[0m\u001b[1;33m\u001b[0m\u001b[1;33m\u001b[0m\u001b[0m\n\u001b[0m\u001b[0;32m      2\u001b[0m \u001b[0my_max\u001b[0m \u001b[1;33m=\u001b[0m \u001b[0mmodel\u001b[0m\u001b[1;33m.\u001b[0m\u001b[0mpredict\u001b[0m\u001b[1;33m(\u001b[0m\u001b[0mx_max\u001b[0m\u001b[1;33m)\u001b[0m\u001b[1;33m\u001b[0m\u001b[1;33m\u001b[0m\u001b[0m\n",
      "\u001b[1;32m~\\anaconda3\\lib\\site-packages\\sklearn\\linear_model\\_base.py\u001b[0m in \u001b[0;36mpredict\u001b[1;34m(self, X)\u001b[0m\n\u001b[0;32m    234\u001b[0m             \u001b[0mReturns\u001b[0m \u001b[0mpredicted\u001b[0m \u001b[0mvalues\u001b[0m\u001b[1;33m.\u001b[0m\u001b[1;33m\u001b[0m\u001b[1;33m\u001b[0m\u001b[0m\n\u001b[0;32m    235\u001b[0m         \"\"\"\n\u001b[1;32m--> 236\u001b[1;33m         \u001b[1;32mreturn\u001b[0m \u001b[0mself\u001b[0m\u001b[1;33m.\u001b[0m\u001b[0m_decision_function\u001b[0m\u001b[1;33m(\u001b[0m\u001b[0mX\u001b[0m\u001b[1;33m)\u001b[0m\u001b[1;33m\u001b[0m\u001b[1;33m\u001b[0m\u001b[0m\n\u001b[0m\u001b[0;32m    237\u001b[0m \u001b[1;33m\u001b[0m\u001b[0m\n\u001b[0;32m    238\u001b[0m     \u001b[0m_preprocess_data\u001b[0m \u001b[1;33m=\u001b[0m \u001b[0mstaticmethod\u001b[0m\u001b[1;33m(\u001b[0m\u001b[0m_preprocess_data\u001b[0m\u001b[1;33m)\u001b[0m\u001b[1;33m\u001b[0m\u001b[1;33m\u001b[0m\u001b[0m\n",
      "\u001b[1;32m~\\anaconda3\\lib\\site-packages\\sklearn\\linear_model\\_base.py\u001b[0m in \u001b[0;36m_decision_function\u001b[1;34m(self, X)\u001b[0m\n\u001b[0;32m    216\u001b[0m         \u001b[0mcheck_is_fitted\u001b[0m\u001b[1;33m(\u001b[0m\u001b[0mself\u001b[0m\u001b[1;33m)\u001b[0m\u001b[1;33m\u001b[0m\u001b[1;33m\u001b[0m\u001b[0m\n\u001b[0;32m    217\u001b[0m \u001b[1;33m\u001b[0m\u001b[0m\n\u001b[1;32m--> 218\u001b[1;33m         \u001b[0mX\u001b[0m \u001b[1;33m=\u001b[0m \u001b[0mcheck_array\u001b[0m\u001b[1;33m(\u001b[0m\u001b[0mX\u001b[0m\u001b[1;33m,\u001b[0m \u001b[0maccept_sparse\u001b[0m\u001b[1;33m=\u001b[0m\u001b[1;33m[\u001b[0m\u001b[1;34m'csr'\u001b[0m\u001b[1;33m,\u001b[0m \u001b[1;34m'csc'\u001b[0m\u001b[1;33m,\u001b[0m \u001b[1;34m'coo'\u001b[0m\u001b[1;33m]\u001b[0m\u001b[1;33m)\u001b[0m\u001b[1;33m\u001b[0m\u001b[1;33m\u001b[0m\u001b[0m\n\u001b[0m\u001b[0;32m    219\u001b[0m         return safe_sparse_dot(X, self.coef_.T,\n\u001b[0;32m    220\u001b[0m                                dense_output=True) + self.intercept_\n",
      "\u001b[1;32m~\\anaconda3\\lib\\site-packages\\sklearn\\utils\\validation.py\u001b[0m in \u001b[0;36minner_f\u001b[1;34m(*args, **kwargs)\u001b[0m\n\u001b[0;32m     70\u001b[0m                           FutureWarning)\n\u001b[0;32m     71\u001b[0m         \u001b[0mkwargs\u001b[0m\u001b[1;33m.\u001b[0m\u001b[0mupdate\u001b[0m\u001b[1;33m(\u001b[0m\u001b[1;33m{\u001b[0m\u001b[0mk\u001b[0m\u001b[1;33m:\u001b[0m \u001b[0marg\u001b[0m \u001b[1;32mfor\u001b[0m \u001b[0mk\u001b[0m\u001b[1;33m,\u001b[0m \u001b[0marg\u001b[0m \u001b[1;32min\u001b[0m \u001b[0mzip\u001b[0m\u001b[1;33m(\u001b[0m\u001b[0msig\u001b[0m\u001b[1;33m.\u001b[0m\u001b[0mparameters\u001b[0m\u001b[1;33m,\u001b[0m \u001b[0margs\u001b[0m\u001b[1;33m)\u001b[0m\u001b[1;33m}\u001b[0m\u001b[1;33m)\u001b[0m\u001b[1;33m\u001b[0m\u001b[1;33m\u001b[0m\u001b[0m\n\u001b[1;32m---> 72\u001b[1;33m         \u001b[1;32mreturn\u001b[0m \u001b[0mf\u001b[0m\u001b[1;33m(\u001b[0m\u001b[1;33m**\u001b[0m\u001b[0mkwargs\u001b[0m\u001b[1;33m)\u001b[0m\u001b[1;33m\u001b[0m\u001b[1;33m\u001b[0m\u001b[0m\n\u001b[0m\u001b[0;32m     73\u001b[0m     \u001b[1;32mreturn\u001b[0m \u001b[0minner_f\u001b[0m\u001b[1;33m\u001b[0m\u001b[1;33m\u001b[0m\u001b[0m\n\u001b[0;32m     74\u001b[0m \u001b[1;33m\u001b[0m\u001b[0m\n",
      "\u001b[1;32m~\\anaconda3\\lib\\site-packages\\sklearn\\utils\\validation.py\u001b[0m in \u001b[0;36mcheck_array\u001b[1;34m(array, accept_sparse, accept_large_sparse, dtype, order, copy, force_all_finite, ensure_2d, allow_nd, ensure_min_samples, ensure_min_features, estimator)\u001b[0m\n\u001b[0;32m    638\u001b[0m             \u001b[0marray\u001b[0m \u001b[1;33m=\u001b[0m \u001b[0marray\u001b[0m\u001b[1;33m.\u001b[0m\u001b[0mastype\u001b[0m\u001b[1;33m(\u001b[0m\u001b[0mnp\u001b[0m\u001b[1;33m.\u001b[0m\u001b[0mfloat64\u001b[0m\u001b[1;33m)\u001b[0m\u001b[1;33m\u001b[0m\u001b[1;33m\u001b[0m\u001b[0m\n\u001b[0;32m    639\u001b[0m         \u001b[1;32mif\u001b[0m \u001b[1;32mnot\u001b[0m \u001b[0mallow_nd\u001b[0m \u001b[1;32mand\u001b[0m \u001b[0marray\u001b[0m\u001b[1;33m.\u001b[0m\u001b[0mndim\u001b[0m \u001b[1;33m>=\u001b[0m \u001b[1;36m3\u001b[0m\u001b[1;33m:\u001b[0m\u001b[1;33m\u001b[0m\u001b[1;33m\u001b[0m\u001b[0m\n\u001b[1;32m--> 640\u001b[1;33m             raise ValueError(\"Found array with dim %d. %s expected <= 2.\"\n\u001b[0m\u001b[0;32m    641\u001b[0m                              % (array.ndim, estimator_name))\n\u001b[0;32m    642\u001b[0m \u001b[1;33m\u001b[0m\u001b[0m\n",
      "\u001b[1;31mValueError\u001b[0m: Found array with dim 3. Estimator expected <= 2."
     ]
    }
   ],
   "source": [
    "y_min = model.predict(x_min)\n",
    "y_max = model.predict(x_max)"
   ]
  },
  {
   "cell_type": "code",
   "execution_count": 39,
   "metadata": {},
   "outputs": [
    {
     "ename": "SyntaxError",
     "evalue": "unexpected EOF while parsing (<ipython-input-39-0ba15af707e4>, line 2)",
     "output_type": "error",
     "traceback": [
      "\u001b[1;36m  File \u001b[1;32m\"<ipython-input-39-0ba15af707e4>\"\u001b[1;36m, line \u001b[1;32m2\u001b[0m\n\u001b[1;33m    plt.plot([x_min[0], x_max[0]], [y_min[0], y_max[0]], c='red'\u001b[0m\n\u001b[1;37m                                                                ^\u001b[0m\n\u001b[1;31mSyntaxError\u001b[0m\u001b[1;31m:\u001b[0m unexpected EOF while parsing\n"
     ]
    }
   ],
   "source": [
    "plt.scatter(X, y, c='blue')\n",
    "plt.plot([x_min[0], x_max[0]], [y_min[0], y_max[0]], c='red'"
   ]
  },
  {
   "cell_type": "code",
   "execution_count": null,
   "metadata": {},
   "outputs": [],
   "source": []
  }
 ],
 "metadata": {
  "kernelspec": {
   "display_name": "Python 3",
   "language": "python",
   "name": "python3"
  },
  "language_info": {
   "codemirror_mode": {
    "name": "ipython",
    "version": 3
   },
   "file_extension": ".py",
   "mimetype": "text/x-python",
   "name": "python",
   "nbconvert_exporter": "python",
   "pygments_lexer": "ipython3",
   "version": "3.8.5"
  }
 },
 "nbformat": 4,
 "nbformat_minor": 4
}
