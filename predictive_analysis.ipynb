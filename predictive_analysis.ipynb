{
 "cells": [
  {
   "cell_type": "code",
   "execution_count": 1,
   "metadata": {},
   "outputs": [],
   "source": [
    "import matplotlib.pyplot as plt\n",
    "import numpy as np\n",
    "import pandas as pd\n",
    "from numpy.random import seed\n",
    "seed(1)\n",
    "#import tensorflow\n",
    "from sklearn.preprocessing import LabelEncoder, MinMaxScaler\n",
    "#from tensorflow.keras.utils import to_categorical\n",
    "#from tensorflow.keras.models import Sequential\n",
    "#from tensorflow.keras.layers import Dense"
   ]
  },
  {
   "cell_type": "code",
   "execution_count": 2,
   "metadata": {},
   "outputs": [
    {
     "data": {
      "text/html": [
       "<div>\n",
       "<style scoped>\n",
       "    .dataframe tbody tr th:only-of-type {\n",
       "        vertical-align: middle;\n",
       "    }\n",
       "\n",
       "    .dataframe tbody tr th {\n",
       "        vertical-align: top;\n",
       "    }\n",
       "\n",
       "    .dataframe thead th {\n",
       "        text-align: right;\n",
       "    }\n",
       "</style>\n",
       "<table border=\"1\" class=\"dataframe\">\n",
       "  <thead>\n",
       "    <tr style=\"text-align: right;\">\n",
       "      <th></th>\n",
       "      <th>id</th>\n",
       "      <th>zip</th>\n",
       "      <th>prop_latitude</th>\n",
       "      <th>prop_longitude</th>\n",
       "      <th>prop_yrbld</th>\n",
       "      <th>prop_landsqft</th>\n",
       "      <th>prop_bldsqft</th>\n",
       "      <th>prop_livingsqft</th>\n",
       "      <th>prop_bedrms</th>\n",
       "      <th>Duration prior</th>\n",
       "      <th>duration equity</th>\n",
       "      <th>Loan Amount</th>\n",
       "      <th>starting equity</th>\n",
       "      <th>ending equity</th>\n",
       "      <th>price increase/decrease</th>\n",
       "      <th>Starting Rate</th>\n",
       "      <th>Ending Rate</th>\n",
       "      <th>Rate Difference</th>\n",
       "    </tr>\n",
       "  </thead>\n",
       "  <tbody>\n",
       "    <tr>\n",
       "      <th>0</th>\n",
       "      <td>52218838</td>\n",
       "      <td>46217</td>\n",
       "      <td>39.655831</td>\n",
       "      <td>-86.218025</td>\n",
       "      <td>2011</td>\n",
       "      <td>6926.0</td>\n",
       "      <td>2999.0</td>\n",
       "      <td>2399.0</td>\n",
       "      <td>4</td>\n",
       "      <td>2231</td>\n",
       "      <td>0.203744</td>\n",
       "      <td>0.990105</td>\n",
       "      <td>0.009895</td>\n",
       "      <td>0.213639</td>\n",
       "      <td>0.122557</td>\n",
       "      <td>4.8360</td>\n",
       "      <td>4.010</td>\n",
       "      <td>0.8260</td>\n",
       "    </tr>\n",
       "    <tr>\n",
       "      <th>1</th>\n",
       "      <td>52713937</td>\n",
       "      <td>46268</td>\n",
       "      <td>39.874484</td>\n",
       "      <td>-86.247279</td>\n",
       "      <td>1995</td>\n",
       "      <td>11069.0</td>\n",
       "      <td>3412.0</td>\n",
       "      <td>2350.0</td>\n",
       "      <td>4</td>\n",
       "      <td>3775</td>\n",
       "      <td>0.344749</td>\n",
       "      <td>0.751880</td>\n",
       "      <td>0.248120</td>\n",
       "      <td>0.592869</td>\n",
       "      <td>0.199417</td>\n",
       "      <td>6.2175</td>\n",
       "      <td>4.010</td>\n",
       "      <td>2.2075</td>\n",
       "    </tr>\n",
       "    <tr>\n",
       "      <th>2</th>\n",
       "      <td>51938159</td>\n",
       "      <td>46217</td>\n",
       "      <td>39.671222</td>\n",
       "      <td>-86.161665</td>\n",
       "      <td>1955</td>\n",
       "      <td>18992.0</td>\n",
       "      <td>2796.0</td>\n",
       "      <td>2152.0</td>\n",
       "      <td>2</td>\n",
       "      <td>1214</td>\n",
       "      <td>0.110868</td>\n",
       "      <td>0.800000</td>\n",
       "      <td>0.200000</td>\n",
       "      <td>0.310868</td>\n",
       "      <td>-0.000912</td>\n",
       "      <td>3.7100</td>\n",
       "      <td>4.570</td>\n",
       "      <td>-0.8600</td>\n",
       "    </tr>\n",
       "    <tr>\n",
       "      <th>3</th>\n",
       "      <td>51511949</td>\n",
       "      <td>46239</td>\n",
       "      <td>39.694670</td>\n",
       "      <td>-86.013174</td>\n",
       "      <td>2006</td>\n",
       "      <td>10759.0</td>\n",
       "      <td>4350.0</td>\n",
       "      <td>2680.0</td>\n",
       "      <td>4</td>\n",
       "      <td>3564</td>\n",
       "      <td>0.325479</td>\n",
       "      <td>0.751881</td>\n",
       "      <td>0.248119</td>\n",
       "      <td>0.573599</td>\n",
       "      <td>-0.224450</td>\n",
       "      <td>6.5240</td>\n",
       "      <td>3.600</td>\n",
       "      <td>2.9240</td>\n",
       "    </tr>\n",
       "    <tr>\n",
       "      <th>4</th>\n",
       "      <td>51994006</td>\n",
       "      <td>46227</td>\n",
       "      <td>39.670611</td>\n",
       "      <td>-86.125501</td>\n",
       "      <td>1957</td>\n",
       "      <td>13983.0</td>\n",
       "      <td>2966.0</td>\n",
       "      <td>1336.0</td>\n",
       "      <td>3</td>\n",
       "      <td>4891</td>\n",
       "      <td>0.446667</td>\n",
       "      <td>0.751882</td>\n",
       "      <td>0.248118</td>\n",
       "      <td>0.694784</td>\n",
       "      <td>-0.122242</td>\n",
       "      <td>6.1125</td>\n",
       "      <td>3.694</td>\n",
       "      <td>2.4185</td>\n",
       "    </tr>\n",
       "  </tbody>\n",
       "</table>\n",
       "</div>"
      ],
      "text/plain": [
       "         id    zip  prop_latitude  prop_longitude  prop_yrbld  prop_landsqft  \\\n",
       "0  52218838  46217      39.655831      -86.218025        2011         6926.0   \n",
       "1  52713937  46268      39.874484      -86.247279        1995        11069.0   \n",
       "2  51938159  46217      39.671222      -86.161665        1955        18992.0   \n",
       "3  51511949  46239      39.694670      -86.013174        2006        10759.0   \n",
       "4  51994006  46227      39.670611      -86.125501        1957        13983.0   \n",
       "\n",
       "   prop_bldsqft  prop_livingsqft  prop_bedrms  Duration prior  \\\n",
       "0        2999.0           2399.0            4            2231   \n",
       "1        3412.0           2350.0            4            3775   \n",
       "2        2796.0           2152.0            2            1214   \n",
       "3        4350.0           2680.0            4            3564   \n",
       "4        2966.0           1336.0            3            4891   \n",
       "\n",
       "   duration equity  Loan Amount  starting equity  ending equity  \\\n",
       "0         0.203744     0.990105         0.009895       0.213639   \n",
       "1         0.344749     0.751880         0.248120       0.592869   \n",
       "2         0.110868     0.800000         0.200000       0.310868   \n",
       "3         0.325479     0.751881         0.248119       0.573599   \n",
       "4         0.446667     0.751882         0.248118       0.694784   \n",
       "\n",
       "   price increase/decrease  Starting Rate  Ending Rate  Rate Difference  \n",
       "0                 0.122557         4.8360        4.010           0.8260  \n",
       "1                 0.199417         6.2175        4.010           2.2075  \n",
       "2                -0.000912         3.7100        4.570          -0.8600  \n",
       "3                -0.224450         6.5240        3.600           2.9240  \n",
       "4                -0.122242         6.1125        3.694           2.4185  "
      ]
     },
     "execution_count": 2,
     "metadata": {},
     "output_type": "execute_result"
    }
   ],
   "source": [
    "housing_data = pd.read_excel('finalcolumns.xlsx')\n",
    "housing_data.head()"
   ]
  },
  {
   "cell_type": "code",
   "execution_count": 3,
   "metadata": {},
   "outputs": [
    {
     "data": {
      "text/html": [
       "<div>\n",
       "<style scoped>\n",
       "    .dataframe tbody tr th:only-of-type {\n",
       "        vertical-align: middle;\n",
       "    }\n",
       "\n",
       "    .dataframe tbody tr th {\n",
       "        vertical-align: top;\n",
       "    }\n",
       "\n",
       "    .dataframe thead th {\n",
       "        text-align: right;\n",
       "    }\n",
       "</style>\n",
       "<table border=\"1\" class=\"dataframe\">\n",
       "  <thead>\n",
       "    <tr style=\"text-align: right;\">\n",
       "      <th></th>\n",
       "      <th>id</th>\n",
       "      <th>zip</th>\n",
       "      <th>prop_latitude</th>\n",
       "      <th>prop_longitude</th>\n",
       "      <th>prop_yrbld</th>\n",
       "      <th>prop_landsqft</th>\n",
       "      <th>prop_bldsqft</th>\n",
       "      <th>prop_livingsqft</th>\n",
       "      <th>prop_bedrms</th>\n",
       "      <th>Duration prior</th>\n",
       "      <th>duration equity</th>\n",
       "      <th>Loan Amount</th>\n",
       "      <th>starting equity</th>\n",
       "      <th>ending equity</th>\n",
       "      <th>price increase/decrease</th>\n",
       "      <th>Starting Rate</th>\n",
       "      <th>Ending Rate</th>\n",
       "      <th>Rate Difference</th>\n",
       "    </tr>\n",
       "  </thead>\n",
       "  <tbody>\n",
       "    <tr>\n",
       "      <th>0</th>\n",
       "      <td>52218838</td>\n",
       "      <td>46217</td>\n",
       "      <td>39.655831</td>\n",
       "      <td>-86.218025</td>\n",
       "      <td>2011</td>\n",
       "      <td>6926.0</td>\n",
       "      <td>2999.0</td>\n",
       "      <td>2399.0</td>\n",
       "      <td>4</td>\n",
       "      <td>2231</td>\n",
       "      <td>0.203744</td>\n",
       "      <td>0.990105</td>\n",
       "      <td>0.009895</td>\n",
       "      <td>0.213639</td>\n",
       "      <td>0.122557</td>\n",
       "      <td>4.8360</td>\n",
       "      <td>4.010</td>\n",
       "      <td>0.8260</td>\n",
       "    </tr>\n",
       "    <tr>\n",
       "      <th>1</th>\n",
       "      <td>52713937</td>\n",
       "      <td>46268</td>\n",
       "      <td>39.874484</td>\n",
       "      <td>-86.247279</td>\n",
       "      <td>1995</td>\n",
       "      <td>11069.0</td>\n",
       "      <td>3412.0</td>\n",
       "      <td>2350.0</td>\n",
       "      <td>4</td>\n",
       "      <td>3775</td>\n",
       "      <td>0.344749</td>\n",
       "      <td>0.751880</td>\n",
       "      <td>0.248120</td>\n",
       "      <td>0.592869</td>\n",
       "      <td>0.199417</td>\n",
       "      <td>6.2175</td>\n",
       "      <td>4.010</td>\n",
       "      <td>2.2075</td>\n",
       "    </tr>\n",
       "    <tr>\n",
       "      <th>2</th>\n",
       "      <td>51938159</td>\n",
       "      <td>46217</td>\n",
       "      <td>39.671222</td>\n",
       "      <td>-86.161665</td>\n",
       "      <td>1955</td>\n",
       "      <td>18992.0</td>\n",
       "      <td>2796.0</td>\n",
       "      <td>2152.0</td>\n",
       "      <td>2</td>\n",
       "      <td>1214</td>\n",
       "      <td>0.110868</td>\n",
       "      <td>0.800000</td>\n",
       "      <td>0.200000</td>\n",
       "      <td>0.310868</td>\n",
       "      <td>-0.000912</td>\n",
       "      <td>3.7100</td>\n",
       "      <td>4.570</td>\n",
       "      <td>-0.8600</td>\n",
       "    </tr>\n",
       "    <tr>\n",
       "      <th>3</th>\n",
       "      <td>51511949</td>\n",
       "      <td>46239</td>\n",
       "      <td>39.694670</td>\n",
       "      <td>-86.013174</td>\n",
       "      <td>2006</td>\n",
       "      <td>10759.0</td>\n",
       "      <td>4350.0</td>\n",
       "      <td>2680.0</td>\n",
       "      <td>4</td>\n",
       "      <td>3564</td>\n",
       "      <td>0.325479</td>\n",
       "      <td>0.751881</td>\n",
       "      <td>0.248119</td>\n",
       "      <td>0.573599</td>\n",
       "      <td>-0.224450</td>\n",
       "      <td>6.5240</td>\n",
       "      <td>3.600</td>\n",
       "      <td>2.9240</td>\n",
       "    </tr>\n",
       "    <tr>\n",
       "      <th>4</th>\n",
       "      <td>51994006</td>\n",
       "      <td>46227</td>\n",
       "      <td>39.670611</td>\n",
       "      <td>-86.125501</td>\n",
       "      <td>1957</td>\n",
       "      <td>13983.0</td>\n",
       "      <td>2966.0</td>\n",
       "      <td>1336.0</td>\n",
       "      <td>3</td>\n",
       "      <td>4891</td>\n",
       "      <td>0.446667</td>\n",
       "      <td>0.751882</td>\n",
       "      <td>0.248118</td>\n",
       "      <td>0.694784</td>\n",
       "      <td>-0.122242</td>\n",
       "      <td>6.1125</td>\n",
       "      <td>3.694</td>\n",
       "      <td>2.4185</td>\n",
       "    </tr>\n",
       "  </tbody>\n",
       "</table>\n",
       "</div>"
      ],
      "text/plain": [
       "         id    zip  prop_latitude  prop_longitude  prop_yrbld  prop_landsqft  \\\n",
       "0  52218838  46217      39.655831      -86.218025        2011         6926.0   \n",
       "1  52713937  46268      39.874484      -86.247279        1995        11069.0   \n",
       "2  51938159  46217      39.671222      -86.161665        1955        18992.0   \n",
       "3  51511949  46239      39.694670      -86.013174        2006        10759.0   \n",
       "4  51994006  46227      39.670611      -86.125501        1957        13983.0   \n",
       "\n",
       "   prop_bldsqft  prop_livingsqft  prop_bedrms  Duration prior  \\\n",
       "0        2999.0           2399.0            4            2231   \n",
       "1        3412.0           2350.0            4            3775   \n",
       "2        2796.0           2152.0            2            1214   \n",
       "3        4350.0           2680.0            4            3564   \n",
       "4        2966.0           1336.0            3            4891   \n",
       "\n",
       "   duration equity  Loan Amount  starting equity  ending equity  \\\n",
       "0         0.203744     0.990105         0.009895       0.213639   \n",
       "1         0.344749     0.751880         0.248120       0.592869   \n",
       "2         0.110868     0.800000         0.200000       0.310868   \n",
       "3         0.325479     0.751881         0.248119       0.573599   \n",
       "4         0.446667     0.751882         0.248118       0.694784   \n",
       "\n",
       "   price increase/decrease  Starting Rate  Ending Rate  Rate Difference  \n",
       "0                 0.122557         4.8360        4.010           0.8260  \n",
       "1                 0.199417         6.2175        4.010           2.2075  \n",
       "2                -0.000912         3.7100        4.570          -0.8600  \n",
       "3                -0.224450         6.5240        3.600           2.9240  \n",
       "4                -0.122242         6.1125        3.694           2.4185  "
      ]
     },
     "execution_count": 3,
     "metadata": {},
     "output_type": "execute_result"
    }
   ],
   "source": [
    "housing_data = pd.get_dummies(housing_data)\n",
    "housing_data.head()"
   ]
  },
  {
   "cell_type": "code",
   "execution_count": 4,
   "metadata": {},
   "outputs": [
    {
     "data": {
      "text/html": [
       "<div>\n",
       "<style scoped>\n",
       "    .dataframe tbody tr th:only-of-type {\n",
       "        vertical-align: middle;\n",
       "    }\n",
       "\n",
       "    .dataframe tbody tr th {\n",
       "        vertical-align: top;\n",
       "    }\n",
       "\n",
       "    .dataframe thead th {\n",
       "        text-align: right;\n",
       "    }\n",
       "</style>\n",
       "<table border=\"1\" class=\"dataframe\">\n",
       "  <thead>\n",
       "    <tr style=\"text-align: right;\">\n",
       "      <th></th>\n",
       "      <th>id</th>\n",
       "      <th>zip</th>\n",
       "      <th>prop_latitude</th>\n",
       "      <th>prop_longitude</th>\n",
       "      <th>prop_yrbld</th>\n",
       "      <th>prop_landsqft</th>\n",
       "      <th>prop_bldsqft</th>\n",
       "      <th>prop_livingsqft</th>\n",
       "      <th>prop_bedrms</th>\n",
       "      <th>Duration prior</th>\n",
       "      <th>duration equity</th>\n",
       "      <th>Loan Amount</th>\n",
       "      <th>starting equity</th>\n",
       "      <th>ending equity</th>\n",
       "      <th>price increase/decrease</th>\n",
       "      <th>Starting Rate</th>\n",
       "      <th>Ending Rate</th>\n",
       "      <th>Rate Difference</th>\n",
       "    </tr>\n",
       "  </thead>\n",
       "  <tbody>\n",
       "    <tr>\n",
       "      <th>0</th>\n",
       "      <td>52218838</td>\n",
       "      <td>46217</td>\n",
       "      <td>39.655831</td>\n",
       "      <td>-86.218025</td>\n",
       "      <td>2011</td>\n",
       "      <td>6926.0</td>\n",
       "      <td>2999.0</td>\n",
       "      <td>2399.0</td>\n",
       "      <td>4</td>\n",
       "      <td>2231</td>\n",
       "      <td>0.203744</td>\n",
       "      <td>0.990105</td>\n",
       "      <td>0.009895</td>\n",
       "      <td>0.213639</td>\n",
       "      <td>0.122557</td>\n",
       "      <td>4.8360</td>\n",
       "      <td>4.010</td>\n",
       "      <td>0.8260</td>\n",
       "    </tr>\n",
       "    <tr>\n",
       "      <th>1</th>\n",
       "      <td>52713937</td>\n",
       "      <td>46268</td>\n",
       "      <td>39.874484</td>\n",
       "      <td>-86.247279</td>\n",
       "      <td>1995</td>\n",
       "      <td>11069.0</td>\n",
       "      <td>3412.0</td>\n",
       "      <td>2350.0</td>\n",
       "      <td>4</td>\n",
       "      <td>3775</td>\n",
       "      <td>0.344749</td>\n",
       "      <td>0.751880</td>\n",
       "      <td>0.248120</td>\n",
       "      <td>0.592869</td>\n",
       "      <td>0.199417</td>\n",
       "      <td>6.2175</td>\n",
       "      <td>4.010</td>\n",
       "      <td>2.2075</td>\n",
       "    </tr>\n",
       "    <tr>\n",
       "      <th>2</th>\n",
       "      <td>51938159</td>\n",
       "      <td>46217</td>\n",
       "      <td>39.671222</td>\n",
       "      <td>-86.161665</td>\n",
       "      <td>1955</td>\n",
       "      <td>18992.0</td>\n",
       "      <td>2796.0</td>\n",
       "      <td>2152.0</td>\n",
       "      <td>2</td>\n",
       "      <td>1214</td>\n",
       "      <td>0.110868</td>\n",
       "      <td>0.800000</td>\n",
       "      <td>0.200000</td>\n",
       "      <td>0.310868</td>\n",
       "      <td>-0.000912</td>\n",
       "      <td>3.7100</td>\n",
       "      <td>4.570</td>\n",
       "      <td>-0.8600</td>\n",
       "    </tr>\n",
       "    <tr>\n",
       "      <th>3</th>\n",
       "      <td>51511949</td>\n",
       "      <td>46239</td>\n",
       "      <td>39.694670</td>\n",
       "      <td>-86.013174</td>\n",
       "      <td>2006</td>\n",
       "      <td>10759.0</td>\n",
       "      <td>4350.0</td>\n",
       "      <td>2680.0</td>\n",
       "      <td>4</td>\n",
       "      <td>3564</td>\n",
       "      <td>0.325479</td>\n",
       "      <td>0.751881</td>\n",
       "      <td>0.248119</td>\n",
       "      <td>0.573599</td>\n",
       "      <td>-0.224450</td>\n",
       "      <td>6.5240</td>\n",
       "      <td>3.600</td>\n",
       "      <td>2.9240</td>\n",
       "    </tr>\n",
       "    <tr>\n",
       "      <th>4</th>\n",
       "      <td>51994006</td>\n",
       "      <td>46227</td>\n",
       "      <td>39.670611</td>\n",
       "      <td>-86.125501</td>\n",
       "      <td>1957</td>\n",
       "      <td>13983.0</td>\n",
       "      <td>2966.0</td>\n",
       "      <td>1336.0</td>\n",
       "      <td>3</td>\n",
       "      <td>4891</td>\n",
       "      <td>0.446667</td>\n",
       "      <td>0.751882</td>\n",
       "      <td>0.248118</td>\n",
       "      <td>0.694784</td>\n",
       "      <td>-0.122242</td>\n",
       "      <td>6.1125</td>\n",
       "      <td>3.694</td>\n",
       "      <td>2.4185</td>\n",
       "    </tr>\n",
       "  </tbody>\n",
       "</table>\n",
       "</div>"
      ],
      "text/plain": [
       "         id    zip  prop_latitude  prop_longitude  prop_yrbld  prop_landsqft  \\\n",
       "0  52218838  46217      39.655831      -86.218025        2011         6926.0   \n",
       "1  52713937  46268      39.874484      -86.247279        1995        11069.0   \n",
       "2  51938159  46217      39.671222      -86.161665        1955        18992.0   \n",
       "3  51511949  46239      39.694670      -86.013174        2006        10759.0   \n",
       "4  51994006  46227      39.670611      -86.125501        1957        13983.0   \n",
       "\n",
       "   prop_bldsqft  prop_livingsqft  prop_bedrms  Duration prior  \\\n",
       "0        2999.0           2399.0            4            2231   \n",
       "1        3412.0           2350.0            4            3775   \n",
       "2        2796.0           2152.0            2            1214   \n",
       "3        4350.0           2680.0            4            3564   \n",
       "4        2966.0           1336.0            3            4891   \n",
       "\n",
       "   duration equity  Loan Amount  starting equity  ending equity  \\\n",
       "0         0.203744     0.990105         0.009895       0.213639   \n",
       "1         0.344749     0.751880         0.248120       0.592869   \n",
       "2         0.110868     0.800000         0.200000       0.310868   \n",
       "3         0.325479     0.751881         0.248119       0.573599   \n",
       "4         0.446667     0.751882         0.248118       0.694784   \n",
       "\n",
       "   price increase/decrease  Starting Rate  Ending Rate  Rate Difference  \n",
       "0                 0.122557         4.8360        4.010           0.8260  \n",
       "1                 0.199417         6.2175        4.010           2.2075  \n",
       "2                -0.000912         3.7100        4.570          -0.8600  \n",
       "3                -0.224450         6.5240        3.600           2.9240  \n",
       "4                -0.122242         6.1125        3.694           2.4185  "
      ]
     },
     "execution_count": 4,
     "metadata": {},
     "output_type": "execute_result"
    }
   ],
   "source": [
    "housing_data_dropped = housing_data.drop(columns=['prop_latitude', 'prop_longitude'])\n",
    "housing_data_dropped = housing_data.dropna()\n",
    "housing_data.head()"
   ]
  },
  {
   "cell_type": "code",
   "execution_count": 6,
   "metadata": {},
   "outputs": [
    {
     "name": "stdout",
     "output_type": "stream",
     "text": [
      "(17875, 13) (17875, 1)\n"
     ]
    }
   ],
   "source": [
    "X = housing_data_dropped[['zip', 'prop_yrbld', 'prop_landsqft', 'prop_bldsqft', 'prop_livingsqft', 'prop_bedrms', 'price increase/decrease', 'Loan Amount', 'starting equity', 'ending equity', 'Starting Rate', 'Ending Rate', 'Rate Difference']]\n",
    "y = housing_data_dropped[\"Duration prior\"].values.reshape(-1, 1)\n",
    "print(X.shape, y.shape)"
   ]
  },
  {
   "cell_type": "code",
   "execution_count": 7,
   "metadata": {},
   "outputs": [],
   "source": [
    "from sklearn.model_selection import train_test_split\n",
    "X_train, X_test, y_train, y_test = train_test_split(X, y, random_state=42)"
   ]
  },
  {
   "cell_type": "code",
   "execution_count": 8,
   "metadata": {},
   "outputs": [],
   "source": [
    "from sklearn.preprocessing import StandardScaler\n",
    "X_scaler = StandardScaler().fit(X_train)\n",
    "y_scaler = StandardScaler().fit(y_train)"
   ]
  },
  {
   "cell_type": "code",
   "execution_count": 9,
   "metadata": {},
   "outputs": [],
   "source": [
    "X_train_scaled = X_scaler.transform(X_train)\n",
    "X_test_scaled = X_scaler.transform(X_test)\n",
    "y_train_scaled = y_scaler.transform(y_train)\n",
    "y_test_scaled = y_scaler.transform(y_test)"
   ]
  },
  {
   "cell_type": "code",
   "execution_count": 10,
   "metadata": {},
   "outputs": [
    {
     "data": {
      "text/plain": [
       "LinearRegression()"
      ]
     },
     "execution_count": 10,
     "metadata": {},
     "output_type": "execute_result"
    }
   ],
   "source": [
    "from sklearn.linear_model import LinearRegression\n",
    "model = LinearRegression()\n",
    "model.fit(X_train_scaled, y_train_scaled)"
   ]
  },
  {
   "cell_type": "code",
   "execution_count": 11,
   "metadata": {},
   "outputs": [
    {
     "data": {
      "text/plain": [
       "0.9983183919820479"
      ]
     },
     "execution_count": 11,
     "metadata": {},
     "output_type": "execute_result"
    }
   ],
   "source": [
    "model.score(X_train_scaled, y_train_scaled)"
   ]
  },
  {
   "cell_type": "markdown",
   "metadata": {},
   "source": [
    "### predictions = model.predict(X_test_scaled)\n",
    "plt.scatter(model.predict(X_train_scaled), model.predict(X_train_scaled) - y_train_scaled, c=\"blue\", label=\"Training Data\")\n",
    "plt.scatter(model.predict(X_test_scaled), model.predict(X_test_scaled) - y_test_scaled, c=\"orange\", label=\"Testing Data\")\n",
    "plt.legend()\n",
    "plt.hlines(y=0, xmin=y_test_scaled.min(), xmax=y_test_scaled.max())\n",
    "plt.title(\"Housing Prediction\")\n",
    "plt.show()"
   ]
  },
  {
   "cell_type": "code",
   "execution_count": 16,
   "metadata": {},
   "outputs": [
    {
     "name": "stdout",
     "output_type": "stream",
     "text": [
      "MSE: 1.0150740074618798, R2: 0.003906816058973028\n"
     ]
    }
   ],
   "source": [
    "from sklearn.metrics import mean_squared_error\n",
    "MSE = mean_squared_error(y_test_scaled, predictions)\n",
    "r2 = model.score(X_test_scaled, y_test_scaled)\n",
    "print(f\"MSE: {MSE}, R2: {r2}\")"
   ]
  },
  {
   "cell_type": "code",
   "execution_count": 17,
   "metadata": {},
   "outputs": [
    {
     "name": "stdout",
     "output_type": "stream",
     "text": [
      "MSE: 1.0150740110435839, R2: 0.003906812544243077\n"
     ]
    }
   ],
   "source": [
    "from sklearn.linear_model import Ridge\n",
    "ridge = Ridge(alpha=.01).fit(X_train_scaled, y_train_scaled)\n",
    "\n",
    "predictions = ridge.predict(X_test_scaled)\n",
    "\n",
    "MSE = mean_squared_error(y_test_scaled, predictions)\n",
    "r2 = ridge.score(X_test_scaled, y_test_scaled)\n",
    "\n",
    "\n",
    "print(f\"MSE: {MSE}, R2: {r2}\")"
   ]
  },
  {
   "cell_type": "code",
   "execution_count": 18,
   "metadata": {},
   "outputs": [
    {
     "name": "stdout",
     "output_type": "stream",
     "text": [
      "MSE: 1.015565916693925, R2: 0.003424105015683576\n"
     ]
    }
   ],
   "source": [
    "from sklearn.linear_model import ElasticNet\n",
    "\n",
    "elasticnet = ElasticNet(alpha=.01).fit(X_train_scaled, y_train_scaled)\n",
    "\n",
    "predictions = elasticnet.predict(X_test_scaled)\n",
    "\n",
    "MSE = mean_squared_error(y_test_scaled, predictions)\n",
    "r2 = elasticnet.score(X_test_scaled, y_test_scaled)\n",
    "\n",
    "print(f\"MSE: {MSE}, R2: {r2}\")"
   ]
  },
  {
   "cell_type": "code",
   "execution_count": 19,
   "metadata": {},
   "outputs": [
    {
     "data": {
      "text/plain": [
       "array([[1178.22527258],\n",
       "       [1161.79587367],\n",
       "       [1107.98939303],\n",
       "       ...,\n",
       "       [1184.86156404],\n",
       "       [1194.82807639],\n",
       "       [1083.69127591]])"
      ]
     },
     "execution_count": 19,
     "metadata": {},
     "output_type": "execute_result"
    }
   ],
   "source": [
    "model.predict(X)"
   ]
  },
  {
   "cell_type": "code",
   "execution_count": 20,
   "metadata": {},
   "outputs": [
    {
     "data": {
      "text/plain": [
       "array([[2231],\n",
       "       [3775],\n",
       "       [1214],\n",
       "       ...,\n",
       "       [1431],\n",
       "       [3173],\n",
       "       [ 576]], dtype=int64)"
      ]
     },
     "execution_count": 20,
     "metadata": {},
     "output_type": "execute_result"
    }
   ],
   "source": [
    "y"
   ]
  },
  {
   "cell_type": "code",
   "execution_count": 24,
   "metadata": {},
   "outputs": [
    {
     "data": {
      "text/plain": [
       "-135.9871658610022"
      ]
     },
     "execution_count": 24,
     "metadata": {},
     "output_type": "execute_result"
    }
   ],
   "source": [
    "model.score(X,y)"
   ]
  },
  {
   "cell_type": "code",
   "execution_count": 36,
   "metadata": {},
   "outputs": [
    {
     "name": "stdout",
     "output_type": "stream",
     "text": [
      "Weight coefficients:  [[ 0.02375049  0.06211026 -0.00570104  0.01449006 -0.02014678  0.00402828\n",
      "   0.02424142]]\n",
      "y-axis intercept:  [-1.96268247e-15]\n"
     ]
    }
   ],
   "source": [
    "print('Weight coefficients: ', model.coef_)\n",
    "print('y-axis intercept: ', model.intercept_)"
   ]
  },
  {
   "cell_type": "code",
   "execution_count": 37,
   "metadata": {},
   "outputs": [
    {
     "name": "stdout",
     "output_type": "stream",
     "text": [
      "Min X Value: [[[46201.          1900.           436.           462.\n",
      "     431.             0.         -2987.02075094]]]\n",
      "Max X Value: [[[4.62900000e+04 2.01800000e+03 4.32629512e+08 2.50040000e+04\n",
      "   1.30340000e+04 8.43611331e+01 9.58841197e-01]]]\n"
     ]
    }
   ],
   "source": [
    "x_min = np.array([[X.min()]])\n",
    "x_max = np.array([[X.max()]])\n",
    "print(f\"Min X Value: {x_min}\")\n",
    "print(f\"Max X Value: {x_max}\")"
   ]
  },
  {
   "cell_type": "code",
   "execution_count": 38,
   "metadata": {},
   "outputs": [
    {
     "ename": "ValueError",
     "evalue": "Found array with dim 3. Estimator expected <= 2.",
     "output_type": "error",
     "traceback": [
      "\u001b[1;31m---------------------------------------------------------------------------\u001b[0m",
      "\u001b[1;31mValueError\u001b[0m                                Traceback (most recent call last)",
      "\u001b[1;32m<ipython-input-38-c5cc9a0bc858>\u001b[0m in \u001b[0;36m<module>\u001b[1;34m\u001b[0m\n\u001b[1;32m----> 1\u001b[1;33m \u001b[0my_min\u001b[0m \u001b[1;33m=\u001b[0m \u001b[0mmodel\u001b[0m\u001b[1;33m.\u001b[0m\u001b[0mpredict\u001b[0m\u001b[1;33m(\u001b[0m\u001b[0mx_min\u001b[0m\u001b[1;33m)\u001b[0m\u001b[1;33m\u001b[0m\u001b[1;33m\u001b[0m\u001b[0m\n\u001b[0m\u001b[0;32m      2\u001b[0m \u001b[0my_max\u001b[0m \u001b[1;33m=\u001b[0m \u001b[0mmodel\u001b[0m\u001b[1;33m.\u001b[0m\u001b[0mpredict\u001b[0m\u001b[1;33m(\u001b[0m\u001b[0mx_max\u001b[0m\u001b[1;33m)\u001b[0m\u001b[1;33m\u001b[0m\u001b[1;33m\u001b[0m\u001b[0m\n",
      "\u001b[1;32m~\\anaconda3\\lib\\site-packages\\sklearn\\linear_model\\_base.py\u001b[0m in \u001b[0;36mpredict\u001b[1;34m(self, X)\u001b[0m\n\u001b[0;32m    234\u001b[0m             \u001b[0mReturns\u001b[0m \u001b[0mpredicted\u001b[0m \u001b[0mvalues\u001b[0m\u001b[1;33m.\u001b[0m\u001b[1;33m\u001b[0m\u001b[1;33m\u001b[0m\u001b[0m\n\u001b[0;32m    235\u001b[0m         \"\"\"\n\u001b[1;32m--> 236\u001b[1;33m         \u001b[1;32mreturn\u001b[0m \u001b[0mself\u001b[0m\u001b[1;33m.\u001b[0m\u001b[0m_decision_function\u001b[0m\u001b[1;33m(\u001b[0m\u001b[0mX\u001b[0m\u001b[1;33m)\u001b[0m\u001b[1;33m\u001b[0m\u001b[1;33m\u001b[0m\u001b[0m\n\u001b[0m\u001b[0;32m    237\u001b[0m \u001b[1;33m\u001b[0m\u001b[0m\n\u001b[0;32m    238\u001b[0m     \u001b[0m_preprocess_data\u001b[0m \u001b[1;33m=\u001b[0m \u001b[0mstaticmethod\u001b[0m\u001b[1;33m(\u001b[0m\u001b[0m_preprocess_data\u001b[0m\u001b[1;33m)\u001b[0m\u001b[1;33m\u001b[0m\u001b[1;33m\u001b[0m\u001b[0m\n",
      "\u001b[1;32m~\\anaconda3\\lib\\site-packages\\sklearn\\linear_model\\_base.py\u001b[0m in \u001b[0;36m_decision_function\u001b[1;34m(self, X)\u001b[0m\n\u001b[0;32m    216\u001b[0m         \u001b[0mcheck_is_fitted\u001b[0m\u001b[1;33m(\u001b[0m\u001b[0mself\u001b[0m\u001b[1;33m)\u001b[0m\u001b[1;33m\u001b[0m\u001b[1;33m\u001b[0m\u001b[0m\n\u001b[0;32m    217\u001b[0m \u001b[1;33m\u001b[0m\u001b[0m\n\u001b[1;32m--> 218\u001b[1;33m         \u001b[0mX\u001b[0m \u001b[1;33m=\u001b[0m \u001b[0mcheck_array\u001b[0m\u001b[1;33m(\u001b[0m\u001b[0mX\u001b[0m\u001b[1;33m,\u001b[0m \u001b[0maccept_sparse\u001b[0m\u001b[1;33m=\u001b[0m\u001b[1;33m[\u001b[0m\u001b[1;34m'csr'\u001b[0m\u001b[1;33m,\u001b[0m \u001b[1;34m'csc'\u001b[0m\u001b[1;33m,\u001b[0m \u001b[1;34m'coo'\u001b[0m\u001b[1;33m]\u001b[0m\u001b[1;33m)\u001b[0m\u001b[1;33m\u001b[0m\u001b[1;33m\u001b[0m\u001b[0m\n\u001b[0m\u001b[0;32m    219\u001b[0m         return safe_sparse_dot(X, self.coef_.T,\n\u001b[0;32m    220\u001b[0m                                dense_output=True) + self.intercept_\n",
      "\u001b[1;32m~\\anaconda3\\lib\\site-packages\\sklearn\\utils\\validation.py\u001b[0m in \u001b[0;36minner_f\u001b[1;34m(*args, **kwargs)\u001b[0m\n\u001b[0;32m     70\u001b[0m                           FutureWarning)\n\u001b[0;32m     71\u001b[0m         \u001b[0mkwargs\u001b[0m\u001b[1;33m.\u001b[0m\u001b[0mupdate\u001b[0m\u001b[1;33m(\u001b[0m\u001b[1;33m{\u001b[0m\u001b[0mk\u001b[0m\u001b[1;33m:\u001b[0m \u001b[0marg\u001b[0m \u001b[1;32mfor\u001b[0m \u001b[0mk\u001b[0m\u001b[1;33m,\u001b[0m \u001b[0marg\u001b[0m \u001b[1;32min\u001b[0m \u001b[0mzip\u001b[0m\u001b[1;33m(\u001b[0m\u001b[0msig\u001b[0m\u001b[1;33m.\u001b[0m\u001b[0mparameters\u001b[0m\u001b[1;33m,\u001b[0m \u001b[0margs\u001b[0m\u001b[1;33m)\u001b[0m\u001b[1;33m}\u001b[0m\u001b[1;33m)\u001b[0m\u001b[1;33m\u001b[0m\u001b[1;33m\u001b[0m\u001b[0m\n\u001b[1;32m---> 72\u001b[1;33m         \u001b[1;32mreturn\u001b[0m \u001b[0mf\u001b[0m\u001b[1;33m(\u001b[0m\u001b[1;33m**\u001b[0m\u001b[0mkwargs\u001b[0m\u001b[1;33m)\u001b[0m\u001b[1;33m\u001b[0m\u001b[1;33m\u001b[0m\u001b[0m\n\u001b[0m\u001b[0;32m     73\u001b[0m     \u001b[1;32mreturn\u001b[0m \u001b[0minner_f\u001b[0m\u001b[1;33m\u001b[0m\u001b[1;33m\u001b[0m\u001b[0m\n\u001b[0;32m     74\u001b[0m \u001b[1;33m\u001b[0m\u001b[0m\n",
      "\u001b[1;32m~\\anaconda3\\lib\\site-packages\\sklearn\\utils\\validation.py\u001b[0m in \u001b[0;36mcheck_array\u001b[1;34m(array, accept_sparse, accept_large_sparse, dtype, order, copy, force_all_finite, ensure_2d, allow_nd, ensure_min_samples, ensure_min_features, estimator)\u001b[0m\n\u001b[0;32m    638\u001b[0m             \u001b[0marray\u001b[0m \u001b[1;33m=\u001b[0m \u001b[0marray\u001b[0m\u001b[1;33m.\u001b[0m\u001b[0mastype\u001b[0m\u001b[1;33m(\u001b[0m\u001b[0mnp\u001b[0m\u001b[1;33m.\u001b[0m\u001b[0mfloat64\u001b[0m\u001b[1;33m)\u001b[0m\u001b[1;33m\u001b[0m\u001b[1;33m\u001b[0m\u001b[0m\n\u001b[0;32m    639\u001b[0m         \u001b[1;32mif\u001b[0m \u001b[1;32mnot\u001b[0m \u001b[0mallow_nd\u001b[0m \u001b[1;32mand\u001b[0m \u001b[0marray\u001b[0m\u001b[1;33m.\u001b[0m\u001b[0mndim\u001b[0m \u001b[1;33m>=\u001b[0m \u001b[1;36m3\u001b[0m\u001b[1;33m:\u001b[0m\u001b[1;33m\u001b[0m\u001b[1;33m\u001b[0m\u001b[0m\n\u001b[1;32m--> 640\u001b[1;33m             raise ValueError(\"Found array with dim %d. %s expected <= 2.\"\n\u001b[0m\u001b[0;32m    641\u001b[0m                              % (array.ndim, estimator_name))\n\u001b[0;32m    642\u001b[0m \u001b[1;33m\u001b[0m\u001b[0m\n",
      "\u001b[1;31mValueError\u001b[0m: Found array with dim 3. Estimator expected <= 2."
     ]
    }
   ],
   "source": [
    "y_min = model.predict(x_min)\n",
    "y_max = model.predict(x_max)"
   ]
  },
  {
   "cell_type": "code",
   "execution_count": 39,
   "metadata": {},
   "outputs": [
    {
     "ename": "SyntaxError",
     "evalue": "unexpected EOF while parsing (<ipython-input-39-0ba15af707e4>, line 2)",
     "output_type": "error",
     "traceback": [
      "\u001b[1;36m  File \u001b[1;32m\"<ipython-input-39-0ba15af707e4>\"\u001b[1;36m, line \u001b[1;32m2\u001b[0m\n\u001b[1;33m    plt.plot([x_min[0], x_max[0]], [y_min[0], y_max[0]], c='red'\u001b[0m\n\u001b[1;37m                                                                ^\u001b[0m\n\u001b[1;31mSyntaxError\u001b[0m\u001b[1;31m:\u001b[0m unexpected EOF while parsing\n"
     ]
    }
   ],
   "source": [
    "plt.scatter(X, y, c='blue')\n",
    "plt.plot([x_min[0], x_max[0]], [y_min[0], y_max[0]], c='red'"
   ]
  },
  {
   "cell_type": "code",
   "execution_count": null,
   "metadata": {},
   "outputs": [],
   "source": []
  }
 ],
 "metadata": {
  "kernelspec": {
   "display_name": "Python 3",
   "language": "python",
   "name": "python3"
  },
  "language_info": {
   "codemirror_mode": {
    "name": "ipython",
    "version": 3
   },
   "file_extension": ".py",
   "mimetype": "text/x-python",
   "name": "python",
   "nbconvert_exporter": "python",
   "pygments_lexer": "ipython3",
   "version": "3.6.10"
  }
 },
 "nbformat": 4,
 "nbformat_minor": 4
}
