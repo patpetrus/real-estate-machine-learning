{
 "cells": [
  {
   "cell_type": "code",
   "execution_count": 31,
   "metadata": {},
   "outputs": [],
   "source": [
    "import matplotlib.pyplot as plt\n",
    "import numpy as np\n",
    "import pandas as pd\n",
    "from numpy.random import seed\n",
    "seed(1)\n",
    "#import tensorflow\n",
    "from sklearn.preprocessing import LabelEncoder, MinMaxScaler\n",
    "#from tensorflow.keras.utils import to_categorical\n",
    "#from tensorflow.keras.models import Sequential\n",
    "#from tensorflow.keras.layers import Dense"
   ]
  },
  {
   "cell_type": "code",
   "execution_count": 32,
   "metadata": {},
   "outputs": [
    {
     "data": {
      "text/html": [
       "<div>\n",
       "<style scoped>\n",
       "    .dataframe tbody tr th:only-of-type {\n",
       "        vertical-align: middle;\n",
       "    }\n",
       "\n",
       "    .dataframe tbody tr th {\n",
       "        vertical-align: top;\n",
       "    }\n",
       "\n",
       "    .dataframe thead th {\n",
       "        text-align: right;\n",
       "    }\n",
       "</style>\n",
       "<table border=\"1\" class=\"dataframe\">\n",
       "  <thead>\n",
       "    <tr style=\"text-align: right;\">\n",
       "      <th></th>\n",
       "      <th>id</th>\n",
       "      <th>zip</th>\n",
       "      <th>prop_latitude</th>\n",
       "      <th>prop_longitude</th>\n",
       "      <th>prop_yrbld</th>\n",
       "      <th>prop_landsqft</th>\n",
       "      <th>prop_bldsqft</th>\n",
       "      <th>prop_livingsqft</th>\n",
       "      <th>prop_bedrms</th>\n",
       "      <th>Duration prior</th>\n",
       "      <th>duration equity</th>\n",
       "      <th>Loan Amount</th>\n",
       "      <th>starting equity</th>\n",
       "      <th>ending equity</th>\n",
       "      <th>price increase/decrease</th>\n",
       "      <th>Starting Rate</th>\n",
       "      <th>Ending Rate</th>\n",
       "      <th>Rate Difference</th>\n",
       "    </tr>\n",
       "  </thead>\n",
       "  <tbody>\n",
       "    <tr>\n",
       "      <th>0</th>\n",
       "      <td>52218838</td>\n",
       "      <td>46217</td>\n",
       "      <td>39.655831</td>\n",
       "      <td>-86.218025</td>\n",
       "      <td>2011</td>\n",
       "      <td>6926.0</td>\n",
       "      <td>2999.0</td>\n",
       "      <td>2399.0</td>\n",
       "      <td>4</td>\n",
       "      <td>2231</td>\n",
       "      <td>0.203744</td>\n",
       "      <td>0.990105</td>\n",
       "      <td>0.009895</td>\n",
       "      <td>0.213639</td>\n",
       "      <td>0.122557</td>\n",
       "      <td>4.8360</td>\n",
       "      <td>4.010</td>\n",
       "      <td>0.8260</td>\n",
       "    </tr>\n",
       "    <tr>\n",
       "      <th>1</th>\n",
       "      <td>52713937</td>\n",
       "      <td>46268</td>\n",
       "      <td>39.874484</td>\n",
       "      <td>-86.247279</td>\n",
       "      <td>1995</td>\n",
       "      <td>11069.0</td>\n",
       "      <td>3412.0</td>\n",
       "      <td>2350.0</td>\n",
       "      <td>4</td>\n",
       "      <td>3775</td>\n",
       "      <td>0.344749</td>\n",
       "      <td>0.751880</td>\n",
       "      <td>0.248120</td>\n",
       "      <td>0.592869</td>\n",
       "      <td>0.199417</td>\n",
       "      <td>6.2175</td>\n",
       "      <td>4.010</td>\n",
       "      <td>2.2075</td>\n",
       "    </tr>\n",
       "    <tr>\n",
       "      <th>2</th>\n",
       "      <td>51938159</td>\n",
       "      <td>46217</td>\n",
       "      <td>39.671222</td>\n",
       "      <td>-86.161665</td>\n",
       "      <td>1955</td>\n",
       "      <td>18992.0</td>\n",
       "      <td>2796.0</td>\n",
       "      <td>2152.0</td>\n",
       "      <td>2</td>\n",
       "      <td>1214</td>\n",
       "      <td>0.110868</td>\n",
       "      <td>0.800000</td>\n",
       "      <td>0.200000</td>\n",
       "      <td>0.310868</td>\n",
       "      <td>-0.000912</td>\n",
       "      <td>3.7100</td>\n",
       "      <td>4.570</td>\n",
       "      <td>-0.8600</td>\n",
       "    </tr>\n",
       "    <tr>\n",
       "      <th>3</th>\n",
       "      <td>51511949</td>\n",
       "      <td>46239</td>\n",
       "      <td>39.694670</td>\n",
       "      <td>-86.013174</td>\n",
       "      <td>2006</td>\n",
       "      <td>10759.0</td>\n",
       "      <td>4350.0</td>\n",
       "      <td>2680.0</td>\n",
       "      <td>4</td>\n",
       "      <td>3564</td>\n",
       "      <td>0.325479</td>\n",
       "      <td>0.751881</td>\n",
       "      <td>0.248119</td>\n",
       "      <td>0.573599</td>\n",
       "      <td>-0.224450</td>\n",
       "      <td>6.5240</td>\n",
       "      <td>3.600</td>\n",
       "      <td>2.9240</td>\n",
       "    </tr>\n",
       "    <tr>\n",
       "      <th>4</th>\n",
       "      <td>51994006</td>\n",
       "      <td>46227</td>\n",
       "      <td>39.670611</td>\n",
       "      <td>-86.125501</td>\n",
       "      <td>1957</td>\n",
       "      <td>13983.0</td>\n",
       "      <td>2966.0</td>\n",
       "      <td>1336.0</td>\n",
       "      <td>3</td>\n",
       "      <td>4891</td>\n",
       "      <td>0.446667</td>\n",
       "      <td>0.751882</td>\n",
       "      <td>0.248118</td>\n",
       "      <td>0.694784</td>\n",
       "      <td>-0.122242</td>\n",
       "      <td>6.1125</td>\n",
       "      <td>3.694</td>\n",
       "      <td>2.4185</td>\n",
       "    </tr>\n",
       "  </tbody>\n",
       "</table>\n",
       "</div>"
      ],
      "text/plain": [
       "         id    zip  prop_latitude  prop_longitude  prop_yrbld  prop_landsqft  \\\n",
       "0  52218838  46217      39.655831      -86.218025        2011         6926.0   \n",
       "1  52713937  46268      39.874484      -86.247279        1995        11069.0   \n",
       "2  51938159  46217      39.671222      -86.161665        1955        18992.0   \n",
       "3  51511949  46239      39.694670      -86.013174        2006        10759.0   \n",
       "4  51994006  46227      39.670611      -86.125501        1957        13983.0   \n",
       "\n",
       "   prop_bldsqft  prop_livingsqft  prop_bedrms  Duration prior  \\\n",
       "0        2999.0           2399.0            4            2231   \n",
       "1        3412.0           2350.0            4            3775   \n",
       "2        2796.0           2152.0            2            1214   \n",
       "3        4350.0           2680.0            4            3564   \n",
       "4        2966.0           1336.0            3            4891   \n",
       "\n",
       "   duration equity  Loan Amount  starting equity  ending equity  \\\n",
       "0         0.203744     0.990105         0.009895       0.213639   \n",
       "1         0.344749     0.751880         0.248120       0.592869   \n",
       "2         0.110868     0.800000         0.200000       0.310868   \n",
       "3         0.325479     0.751881         0.248119       0.573599   \n",
       "4         0.446667     0.751882         0.248118       0.694784   \n",
       "\n",
       "   price increase/decrease  Starting Rate  Ending Rate  Rate Difference  \n",
       "0                 0.122557         4.8360        4.010           0.8260  \n",
       "1                 0.199417         6.2175        4.010           2.2075  \n",
       "2                -0.000912         3.7100        4.570          -0.8600  \n",
       "3                -0.224450         6.5240        3.600           2.9240  \n",
       "4                -0.122242         6.1125        3.694           2.4185  "
      ]
     },
     "execution_count": 32,
     "metadata": {},
     "output_type": "execute_result"
    }
   ],
   "source": [
    "housing_data = pd.read_excel('finalcolumns.xlsx')\n",
    "housing_data.head()"
   ]
  },
  {
   "cell_type": "code",
   "execution_count": 33,
   "metadata": {},
   "outputs": [
    {
     "data": {
      "text/html": [
       "<div>\n",
       "<style scoped>\n",
       "    .dataframe tbody tr th:only-of-type {\n",
       "        vertical-align: middle;\n",
       "    }\n",
       "\n",
       "    .dataframe tbody tr th {\n",
       "        vertical-align: top;\n",
       "    }\n",
       "\n",
       "    .dataframe thead th {\n",
       "        text-align: right;\n",
       "    }\n",
       "</style>\n",
       "<table border=\"1\" class=\"dataframe\">\n",
       "  <thead>\n",
       "    <tr style=\"text-align: right;\">\n",
       "      <th></th>\n",
       "      <th>id</th>\n",
       "      <th>zip</th>\n",
       "      <th>prop_latitude</th>\n",
       "      <th>prop_longitude</th>\n",
       "      <th>prop_yrbld</th>\n",
       "      <th>prop_landsqft</th>\n",
       "      <th>prop_bldsqft</th>\n",
       "      <th>prop_livingsqft</th>\n",
       "      <th>prop_bedrms</th>\n",
       "      <th>Duration prior</th>\n",
       "      <th>duration equity</th>\n",
       "      <th>Loan Amount</th>\n",
       "      <th>starting equity</th>\n",
       "      <th>ending equity</th>\n",
       "      <th>price increase/decrease</th>\n",
       "      <th>Starting Rate</th>\n",
       "      <th>Ending Rate</th>\n",
       "      <th>Rate Difference</th>\n",
       "    </tr>\n",
       "  </thead>\n",
       "  <tbody>\n",
       "    <tr>\n",
       "      <th>0</th>\n",
       "      <td>52218838</td>\n",
       "      <td>46217</td>\n",
       "      <td>39.655831</td>\n",
       "      <td>-86.218025</td>\n",
       "      <td>2011</td>\n",
       "      <td>6926.0</td>\n",
       "      <td>2999.0</td>\n",
       "      <td>2399.0</td>\n",
       "      <td>4</td>\n",
       "      <td>2231</td>\n",
       "      <td>0.203744</td>\n",
       "      <td>0.990105</td>\n",
       "      <td>0.009895</td>\n",
       "      <td>0.213639</td>\n",
       "      <td>0.122557</td>\n",
       "      <td>4.8360</td>\n",
       "      <td>4.010</td>\n",
       "      <td>0.8260</td>\n",
       "    </tr>\n",
       "    <tr>\n",
       "      <th>1</th>\n",
       "      <td>52713937</td>\n",
       "      <td>46268</td>\n",
       "      <td>39.874484</td>\n",
       "      <td>-86.247279</td>\n",
       "      <td>1995</td>\n",
       "      <td>11069.0</td>\n",
       "      <td>3412.0</td>\n",
       "      <td>2350.0</td>\n",
       "      <td>4</td>\n",
       "      <td>3775</td>\n",
       "      <td>0.344749</td>\n",
       "      <td>0.751880</td>\n",
       "      <td>0.248120</td>\n",
       "      <td>0.592869</td>\n",
       "      <td>0.199417</td>\n",
       "      <td>6.2175</td>\n",
       "      <td>4.010</td>\n",
       "      <td>2.2075</td>\n",
       "    </tr>\n",
       "    <tr>\n",
       "      <th>2</th>\n",
       "      <td>51938159</td>\n",
       "      <td>46217</td>\n",
       "      <td>39.671222</td>\n",
       "      <td>-86.161665</td>\n",
       "      <td>1955</td>\n",
       "      <td>18992.0</td>\n",
       "      <td>2796.0</td>\n",
       "      <td>2152.0</td>\n",
       "      <td>2</td>\n",
       "      <td>1214</td>\n",
       "      <td>0.110868</td>\n",
       "      <td>0.800000</td>\n",
       "      <td>0.200000</td>\n",
       "      <td>0.310868</td>\n",
       "      <td>-0.000912</td>\n",
       "      <td>3.7100</td>\n",
       "      <td>4.570</td>\n",
       "      <td>-0.8600</td>\n",
       "    </tr>\n",
       "    <tr>\n",
       "      <th>3</th>\n",
       "      <td>51511949</td>\n",
       "      <td>46239</td>\n",
       "      <td>39.694670</td>\n",
       "      <td>-86.013174</td>\n",
       "      <td>2006</td>\n",
       "      <td>10759.0</td>\n",
       "      <td>4350.0</td>\n",
       "      <td>2680.0</td>\n",
       "      <td>4</td>\n",
       "      <td>3564</td>\n",
       "      <td>0.325479</td>\n",
       "      <td>0.751881</td>\n",
       "      <td>0.248119</td>\n",
       "      <td>0.573599</td>\n",
       "      <td>-0.224450</td>\n",
       "      <td>6.5240</td>\n",
       "      <td>3.600</td>\n",
       "      <td>2.9240</td>\n",
       "    </tr>\n",
       "    <tr>\n",
       "      <th>4</th>\n",
       "      <td>51994006</td>\n",
       "      <td>46227</td>\n",
       "      <td>39.670611</td>\n",
       "      <td>-86.125501</td>\n",
       "      <td>1957</td>\n",
       "      <td>13983.0</td>\n",
       "      <td>2966.0</td>\n",
       "      <td>1336.0</td>\n",
       "      <td>3</td>\n",
       "      <td>4891</td>\n",
       "      <td>0.446667</td>\n",
       "      <td>0.751882</td>\n",
       "      <td>0.248118</td>\n",
       "      <td>0.694784</td>\n",
       "      <td>-0.122242</td>\n",
       "      <td>6.1125</td>\n",
       "      <td>3.694</td>\n",
       "      <td>2.4185</td>\n",
       "    </tr>\n",
       "  </tbody>\n",
       "</table>\n",
       "</div>"
      ],
      "text/plain": [
       "         id    zip  prop_latitude  prop_longitude  prop_yrbld  prop_landsqft  \\\n",
       "0  52218838  46217      39.655831      -86.218025        2011         6926.0   \n",
       "1  52713937  46268      39.874484      -86.247279        1995        11069.0   \n",
       "2  51938159  46217      39.671222      -86.161665        1955        18992.0   \n",
       "3  51511949  46239      39.694670      -86.013174        2006        10759.0   \n",
       "4  51994006  46227      39.670611      -86.125501        1957        13983.0   \n",
       "\n",
       "   prop_bldsqft  prop_livingsqft  prop_bedrms  Duration prior  \\\n",
       "0        2999.0           2399.0            4            2231   \n",
       "1        3412.0           2350.0            4            3775   \n",
       "2        2796.0           2152.0            2            1214   \n",
       "3        4350.0           2680.0            4            3564   \n",
       "4        2966.0           1336.0            3            4891   \n",
       "\n",
       "   duration equity  Loan Amount  starting equity  ending equity  \\\n",
       "0         0.203744     0.990105         0.009895       0.213639   \n",
       "1         0.344749     0.751880         0.248120       0.592869   \n",
       "2         0.110868     0.800000         0.200000       0.310868   \n",
       "3         0.325479     0.751881         0.248119       0.573599   \n",
       "4         0.446667     0.751882         0.248118       0.694784   \n",
       "\n",
       "   price increase/decrease  Starting Rate  Ending Rate  Rate Difference  \n",
       "0                 0.122557         4.8360        4.010           0.8260  \n",
       "1                 0.199417         6.2175        4.010           2.2075  \n",
       "2                -0.000912         3.7100        4.570          -0.8600  \n",
       "3                -0.224450         6.5240        3.600           2.9240  \n",
       "4                -0.122242         6.1125        3.694           2.4185  "
      ]
     },
     "execution_count": 33,
     "metadata": {},
     "output_type": "execute_result"
    }
   ],
   "source": [
    "housing_data = pd.get_dummies(housing_data)\n",
    "housing_data.head()"
   ]
  },
  {
   "cell_type": "code",
   "execution_count": 34,
   "metadata": {},
   "outputs": [
    {
     "data": {
      "text/html": [
       "<div>\n",
       "<style scoped>\n",
       "    .dataframe tbody tr th:only-of-type {\n",
       "        vertical-align: middle;\n",
       "    }\n",
       "\n",
       "    .dataframe tbody tr th {\n",
       "        vertical-align: top;\n",
       "    }\n",
       "\n",
       "    .dataframe thead th {\n",
       "        text-align: right;\n",
       "    }\n",
       "</style>\n",
       "<table border=\"1\" class=\"dataframe\">\n",
       "  <thead>\n",
       "    <tr style=\"text-align: right;\">\n",
       "      <th></th>\n",
       "      <th>id</th>\n",
       "      <th>zip</th>\n",
       "      <th>prop_latitude</th>\n",
       "      <th>prop_longitude</th>\n",
       "      <th>prop_yrbld</th>\n",
       "      <th>prop_landsqft</th>\n",
       "      <th>prop_bldsqft</th>\n",
       "      <th>prop_livingsqft</th>\n",
       "      <th>prop_bedrms</th>\n",
       "      <th>Duration prior</th>\n",
       "      <th>duration equity</th>\n",
       "      <th>Loan Amount</th>\n",
       "      <th>starting equity</th>\n",
       "      <th>ending equity</th>\n",
       "      <th>price increase/decrease</th>\n",
       "      <th>Starting Rate</th>\n",
       "      <th>Ending Rate</th>\n",
       "      <th>Rate Difference</th>\n",
       "    </tr>\n",
       "  </thead>\n",
       "  <tbody>\n",
       "    <tr>\n",
       "      <th>0</th>\n",
       "      <td>52218838</td>\n",
       "      <td>46217</td>\n",
       "      <td>39.655831</td>\n",
       "      <td>-86.218025</td>\n",
       "      <td>2011</td>\n",
       "      <td>6926.0</td>\n",
       "      <td>2999.0</td>\n",
       "      <td>2399.0</td>\n",
       "      <td>4</td>\n",
       "      <td>2231</td>\n",
       "      <td>0.203744</td>\n",
       "      <td>0.990105</td>\n",
       "      <td>0.009895</td>\n",
       "      <td>0.213639</td>\n",
       "      <td>0.122557</td>\n",
       "      <td>4.8360</td>\n",
       "      <td>4.010</td>\n",
       "      <td>0.8260</td>\n",
       "    </tr>\n",
       "    <tr>\n",
       "      <th>1</th>\n",
       "      <td>52713937</td>\n",
       "      <td>46268</td>\n",
       "      <td>39.874484</td>\n",
       "      <td>-86.247279</td>\n",
       "      <td>1995</td>\n",
       "      <td>11069.0</td>\n",
       "      <td>3412.0</td>\n",
       "      <td>2350.0</td>\n",
       "      <td>4</td>\n",
       "      <td>3775</td>\n",
       "      <td>0.344749</td>\n",
       "      <td>0.751880</td>\n",
       "      <td>0.248120</td>\n",
       "      <td>0.592869</td>\n",
       "      <td>0.199417</td>\n",
       "      <td>6.2175</td>\n",
       "      <td>4.010</td>\n",
       "      <td>2.2075</td>\n",
       "    </tr>\n",
       "    <tr>\n",
       "      <th>2</th>\n",
       "      <td>51938159</td>\n",
       "      <td>46217</td>\n",
       "      <td>39.671222</td>\n",
       "      <td>-86.161665</td>\n",
       "      <td>1955</td>\n",
       "      <td>18992.0</td>\n",
       "      <td>2796.0</td>\n",
       "      <td>2152.0</td>\n",
       "      <td>2</td>\n",
       "      <td>1214</td>\n",
       "      <td>0.110868</td>\n",
       "      <td>0.800000</td>\n",
       "      <td>0.200000</td>\n",
       "      <td>0.310868</td>\n",
       "      <td>-0.000912</td>\n",
       "      <td>3.7100</td>\n",
       "      <td>4.570</td>\n",
       "      <td>-0.8600</td>\n",
       "    </tr>\n",
       "    <tr>\n",
       "      <th>3</th>\n",
       "      <td>51511949</td>\n",
       "      <td>46239</td>\n",
       "      <td>39.694670</td>\n",
       "      <td>-86.013174</td>\n",
       "      <td>2006</td>\n",
       "      <td>10759.0</td>\n",
       "      <td>4350.0</td>\n",
       "      <td>2680.0</td>\n",
       "      <td>4</td>\n",
       "      <td>3564</td>\n",
       "      <td>0.325479</td>\n",
       "      <td>0.751881</td>\n",
       "      <td>0.248119</td>\n",
       "      <td>0.573599</td>\n",
       "      <td>-0.224450</td>\n",
       "      <td>6.5240</td>\n",
       "      <td>3.600</td>\n",
       "      <td>2.9240</td>\n",
       "    </tr>\n",
       "    <tr>\n",
       "      <th>4</th>\n",
       "      <td>51994006</td>\n",
       "      <td>46227</td>\n",
       "      <td>39.670611</td>\n",
       "      <td>-86.125501</td>\n",
       "      <td>1957</td>\n",
       "      <td>13983.0</td>\n",
       "      <td>2966.0</td>\n",
       "      <td>1336.0</td>\n",
       "      <td>3</td>\n",
       "      <td>4891</td>\n",
       "      <td>0.446667</td>\n",
       "      <td>0.751882</td>\n",
       "      <td>0.248118</td>\n",
       "      <td>0.694784</td>\n",
       "      <td>-0.122242</td>\n",
       "      <td>6.1125</td>\n",
       "      <td>3.694</td>\n",
       "      <td>2.4185</td>\n",
       "    </tr>\n",
       "  </tbody>\n",
       "</table>\n",
       "</div>"
      ],
      "text/plain": [
       "         id    zip  prop_latitude  prop_longitude  prop_yrbld  prop_landsqft  \\\n",
       "0  52218838  46217      39.655831      -86.218025        2011         6926.0   \n",
       "1  52713937  46268      39.874484      -86.247279        1995        11069.0   \n",
       "2  51938159  46217      39.671222      -86.161665        1955        18992.0   \n",
       "3  51511949  46239      39.694670      -86.013174        2006        10759.0   \n",
       "4  51994006  46227      39.670611      -86.125501        1957        13983.0   \n",
       "\n",
       "   prop_bldsqft  prop_livingsqft  prop_bedrms  Duration prior  \\\n",
       "0        2999.0           2399.0            4            2231   \n",
       "1        3412.0           2350.0            4            3775   \n",
       "2        2796.0           2152.0            2            1214   \n",
       "3        4350.0           2680.0            4            3564   \n",
       "4        2966.0           1336.0            3            4891   \n",
       "\n",
       "   duration equity  Loan Amount  starting equity  ending equity  \\\n",
       "0         0.203744     0.990105         0.009895       0.213639   \n",
       "1         0.344749     0.751880         0.248120       0.592869   \n",
       "2         0.110868     0.800000         0.200000       0.310868   \n",
       "3         0.325479     0.751881         0.248119       0.573599   \n",
       "4         0.446667     0.751882         0.248118       0.694784   \n",
       "\n",
       "   price increase/decrease  Starting Rate  Ending Rate  Rate Difference  \n",
       "0                 0.122557         4.8360        4.010           0.8260  \n",
       "1                 0.199417         6.2175        4.010           2.2075  \n",
       "2                -0.000912         3.7100        4.570          -0.8600  \n",
       "3                -0.224450         6.5240        3.600           2.9240  \n",
       "4                -0.122242         6.1125        3.694           2.4185  "
      ]
     },
     "execution_count": 34,
     "metadata": {},
     "output_type": "execute_result"
    }
   ],
   "source": [
    "housing_data_dropped = housing_data.drop(columns=['prop_latitude', 'prop_longitude'])\n",
    "housing_data_dropped = housing_data.dropna()\n",
    "housing_data.head()"
   ]
  },
  {
   "cell_type": "code",
   "execution_count": 35,
   "metadata": {},
   "outputs": [
    {
     "name": "stdout",
     "output_type": "stream",
     "text": [
      "(17875, 13) (17875, 1)\n"
     ]
    }
   ],
   "source": [
    "X = housing_data_dropped[['zip', 'prop_yrbld', 'prop_landsqft', 'prop_bldsqft', 'prop_livingsqft', 'prop_bedrms', 'price increase/decrease', 'Loan Amount', 'starting equity', 'ending equity', 'Starting Rate', 'Ending Rate', 'Rate Difference']]\n",
    "y = housing_data_dropped[\"Duration prior\"].values.reshape(-1, 1)\n",
    "print(X.shape, y.shape)"
   ]
  },
  {
   "cell_type": "code",
   "execution_count": 36,
   "metadata": {},
   "outputs": [],
   "source": [
    "from sklearn.model_selection import train_test_split\n",
    "X_train, X_test, y_train, y_test = train_test_split(X, y, random_state=42)"
   ]
  },
  {
   "cell_type": "code",
   "execution_count": 37,
   "metadata": {},
   "outputs": [],
   "source": [
    "from sklearn.preprocessing import StandardScaler\n",
    "X_scaler = StandardScaler().fit(X_train)\n",
    "y_scaler = StandardScaler().fit(y_train)"
   ]
  },
  {
   "cell_type": "code",
   "execution_count": 38,
   "metadata": {},
   "outputs": [],
   "source": [
    "X_train_scaled = X_scaler.transform(X_train)\n",
    "X_test_scaled = X_scaler.transform(X_test)\n",
    "y_train_scaled = y_scaler.transform(y_train)\n",
    "y_test_scaled = y_scaler.transform(y_test)"
   ]
  },
  {
   "cell_type": "code",
   "execution_count": 39,
   "metadata": {},
   "outputs": [
    {
     "data": {
      "text/plain": [
       "LinearRegression()"
      ]
     },
     "execution_count": 39,
     "metadata": {},
     "output_type": "execute_result"
    }
   ],
   "source": [
    "from sklearn.linear_model import LinearRegression\n",
    "model = LinearRegression()\n",
    "model.fit(X_train_scaled, y_train_scaled)"
   ]
  },
  {
   "cell_type": "code",
   "execution_count": 40,
   "metadata": {},
   "outputs": [
    {
     "data": {
      "text/plain": [
       "0.9983184646798212"
      ]
     },
     "execution_count": 40,
     "metadata": {},
     "output_type": "execute_result"
    }
   ],
   "source": [
    "model.score(X_train_scaled, y_train_scaled)"
   ]
  },
  {
   "cell_type": "code",
   "execution_count": 100,
   "metadata": {},
   "outputs": [
    {
     "data": {
      "text/plain": [
       "0.9962536240217829"
      ]
     },
     "execution_count": 100,
     "metadata": {},
     "output_type": "execute_result"
    }
   ],
   "source": [
    "model.score(X_test_scaled, y_test_scaled)"
   ]
  },
  {
   "cell_type": "markdown",
   "metadata": {},
   "source": [
    "### predictions = model.predict(X_test_scaled)\n",
    "plt.scatter(model.predict(X_train_scaled), model.predict(X_train_scaled) - y_train_scaled, c=\"blue\", label=\"Training Data\")\n",
    "plt.scatter(model.predict(X_test_scaled), model.predict(X_test_scaled) - y_test_scaled, c=\"orange\", label=\"Testing Data\")\n",
    "plt.legend()\n",
    "plt.hlines(y=0, xmin=y_test_scaled.min(), xmax=y_test_scaled.max())\n",
    "plt.title(\"Housing Prediction\")\n",
    "plt.show()"
   ]
  },
  {
   "cell_type": "code",
   "execution_count": 41,
   "metadata": {},
   "outputs": [],
   "source": [
    "# from sklearn.metrics import mean_squared_error\n",
    "# MSE = mean_squared_error(y_test_scaled, predictions)\n",
    "# r2 = model.score(X_test_scaled, y_test_scaled)\n",
    "# print(f\"MSE: {MSE}, R2: {r2}\")"
   ]
  },
  {
   "cell_type": "code",
   "execution_count": 42,
   "metadata": {},
   "outputs": [
    {
     "name": "stdout",
     "output_type": "stream",
     "text": [
      "MSE: 0.0037778217578162297, R2: 0.9962539587391769\n"
     ]
    }
   ],
   "source": [
    "from sklearn.linear_model import Ridge\n",
    "ridge = Ridge(alpha=.01).fit(X_train_scaled, y_train_scaled)\n",
    "\n",
    "predictions = ridge.predict(X_test_scaled)\n",
    "\n",
    "MSE = mean_squared_error(y_test_scaled, predictions)\n",
    "r2 = ridge.score(X_test_scaled, y_test_scaled)\n",
    "\n",
    "\n",
    "print(f\"MSE: {MSE}, R2: {r2}\")"
   ]
  },
  {
   "cell_type": "code",
   "execution_count": 43,
   "metadata": {},
   "outputs": [
    {
     "name": "stdout",
     "output_type": "stream",
     "text": [
      "MSE: 0.0699056475157282, R2: 0.9306824258141152\n"
     ]
    }
   ],
   "source": [
    "from sklearn.linear_model import ElasticNet\n",
    "\n",
    "elasticnet = ElasticNet(alpha=.01).fit(X_train_scaled, y_train_scaled)\n",
    "\n",
    "predictions = elasticnet.predict(X_test_scaled)\n",
    "\n",
    "MSE = mean_squared_error(y_test_scaled, predictions)\n",
    "r2 = elasticnet.score(X_test_scaled, y_test_scaled)\n",
    "\n",
    "print(f\"MSE: {MSE}, R2: {r2}\")"
   ]
  },
  {
   "cell_type": "code",
   "execution_count": 44,
   "metadata": {},
   "outputs": [
    {
     "data": {
      "text/plain": [
       "array([[-8.28509953e+10],\n",
       "       [-7.97985121e+10],\n",
       "       [-9.78786219e+10],\n",
       "       ...,\n",
       "       [-1.17648118e+11],\n",
       "       [-7.20544930e+10],\n",
       "       [-1.31474984e+11]])"
      ]
     },
     "execution_count": 44,
     "metadata": {},
     "output_type": "execute_result"
    }
   ],
   "source": [
    "model.predict(X)"
   ]
  },
  {
   "cell_type": "code",
   "execution_count": 51,
   "metadata": {},
   "outputs": [
    {
     "data": {
      "text/plain": [
       "(17875, 13)"
      ]
     },
     "execution_count": 51,
     "metadata": {},
     "output_type": "execute_result"
    }
   ],
   "source": [
    "X.shape"
   ]
  },
  {
   "cell_type": "code",
   "execution_count": 45,
   "metadata": {},
   "outputs": [
    {
     "data": {
      "text/plain": [
       "array([[2231],\n",
       "       [3775],\n",
       "       [1214],\n",
       "       ...,\n",
       "       [1431],\n",
       "       [3173],\n",
       "       [ 576]])"
      ]
     },
     "execution_count": 45,
     "metadata": {},
     "output_type": "execute_result"
    }
   ],
   "source": [
    "y"
   ]
  },
  {
   "cell_type": "code",
   "execution_count": 46,
   "metadata": {},
   "outputs": [
    {
     "data": {
      "text/plain": [
       "-3804579694157958.0"
      ]
     },
     "execution_count": 46,
     "metadata": {},
     "output_type": "execute_result"
    }
   ],
   "source": [
    "model.score(X,y)"
   ]
  },
  {
   "cell_type": "code",
   "execution_count": 47,
   "metadata": {},
   "outputs": [
    {
     "name": "stdout",
     "output_type": "stream",
     "text": [
      "Weight coefficients:  [[-1.87752979e-04 -6.83726938e-04 -1.88926716e-05 -1.18441554e-03\n",
      "   3.93207403e-04 -2.70271774e-04  3.74966735e-05 -3.74326628e+09\n",
      "  -3.74326628e+09  5.36198338e+00 -9.69552249e+10  7.67724789e+10\n",
      "   9.91647675e+10]]\n",
      "y-axis intercept:  [-1.88791937e-05]\n"
     ]
    }
   ],
   "source": [
    "print('Weight coefficients: ', model.coef_)\n",
    "print('y-axis intercept: ', model.intercept_)"
   ]
  },
  {
   "cell_type": "code",
   "execution_count": 54,
   "metadata": {},
   "outputs": [
    {
     "data": {
      "text/plain": [
       "(1, 13)"
      ]
     },
     "execution_count": 54,
     "metadata": {},
     "output_type": "execute_result"
    }
   ],
   "source": [
    "np.array([X.min()]).shape"
   ]
  },
  {
   "cell_type": "code",
   "execution_count": 91,
   "metadata": {},
   "outputs": [
    {
     "data": {
      "text/plain": [
       "zip                        46201.000000\n",
       "prop_yrbld                  1900.000000\n",
       "prop_landsqft                436.000000\n",
       "prop_bldsqft                 462.000000\n",
       "prop_livingsqft              431.000000\n",
       "prop_bedrms                    1.000000\n",
       "price increase/decrease    -2987.020751\n",
       "Loan Amount                    0.000000\n",
       "starting equity              -83.361133\n",
       "ending equity                -83.346795\n",
       "Starting Rate                  3.345000\n",
       "Ending Rate                    3.232500\n",
       "Rate Difference               -1.532500\n",
       "dtype: float64"
      ]
     },
     "execution_count": 91,
     "metadata": {},
     "output_type": "execute_result"
    }
   ],
   "source": [
    "X.min()"
   ]
  },
  {
   "cell_type": "code",
   "execution_count": 55,
   "metadata": {},
   "outputs": [
    {
     "name": "stdout",
     "output_type": "stream",
     "text": [
      "Min X Value: [[ 4.62010000e+04  1.90000000e+03  4.36000000e+02  4.62000000e+02\n",
      "   4.31000000e+02  1.00000000e+00 -2.98702075e+03  0.00000000e+00\n",
      "  -8.33611331e+01 -8.33467952e+01  3.34500000e+00  3.23250000e+00\n",
      "  -1.53250000e+00]]\n",
      "Max X Value: [[4.62900000e+04 2.01700000e+03 4.32629512e+08 2.50040000e+04\n",
      "  1.30340000e+04 9.00000000e+00 9.58841197e-01 8.43611331e+01\n",
      "  1.00000000e+00 1.69031963e+00 1.27087500e+01 8.02750000e+00\n",
      "  6.67125000e+00]]\n"
     ]
    }
   ],
   "source": [
    "x_min = np.array([X.min()])\n",
    "x_max = np.array([X.max()])\n",
    "print(f\"Min X Value: {x_min}\")\n",
    "print(f\"Max X Value: {x_max}\")"
   ]
  },
  {
   "cell_type": "code",
   "execution_count": 56,
   "metadata": {},
   "outputs": [],
   "source": [
    "y_min = model.predict(x_min)\n",
    "y_max = model.predict(x_max)"
   ]
  },
  {
   "cell_type": "code",
   "execution_count": 86,
   "metadata": {},
   "outputs": [
    {
     "data": {
      "text/plain": [
       "((1, 13), (1, 13), (1, 1), (1, 1), (17875, 13), (17875, 1))"
      ]
     },
     "execution_count": 86,
     "metadata": {},
     "output_type": "execute_result"
    }
   ],
   "source": [
    "x_min.shape, x_max.shape, y_min.shape, y_max.shape, X.shape, y.shape"
   ]
  },
  {
   "cell_type": "code",
   "execution_count": 81,
   "metadata": {},
   "outputs": [
    {
     "data": {
      "text/html": [
       "<div>\n",
       "<style scoped>\n",
       "    .dataframe tbody tr th:only-of-type {\n",
       "        vertical-align: middle;\n",
       "    }\n",
       "\n",
       "    .dataframe tbody tr th {\n",
       "        vertical-align: top;\n",
       "    }\n",
       "\n",
       "    .dataframe thead th {\n",
       "        text-align: right;\n",
       "    }\n",
       "</style>\n",
       "<table border=\"1\" class=\"dataframe\">\n",
       "  <thead>\n",
       "    <tr style=\"text-align: right;\">\n",
       "      <th></th>\n",
       "      <th>zip</th>\n",
       "      <th>prop_yrbld</th>\n",
       "      <th>prop_landsqft</th>\n",
       "      <th>prop_bldsqft</th>\n",
       "      <th>prop_livingsqft</th>\n",
       "      <th>prop_bedrms</th>\n",
       "      <th>price increase/decrease</th>\n",
       "      <th>Loan Amount</th>\n",
       "      <th>starting equity</th>\n",
       "      <th>ending equity</th>\n",
       "      <th>Starting Rate</th>\n",
       "      <th>Ending Rate</th>\n",
       "      <th>Rate Difference</th>\n",
       "    </tr>\n",
       "  </thead>\n",
       "  <tbody>\n",
       "    <tr>\n",
       "      <th>0</th>\n",
       "      <td>46217</td>\n",
       "      <td>2011</td>\n",
       "      <td>6926.0</td>\n",
       "      <td>2999.0</td>\n",
       "      <td>2399.0</td>\n",
       "      <td>4</td>\n",
       "      <td>0.122557</td>\n",
       "      <td>0.990105</td>\n",
       "      <td>0.009895</td>\n",
       "      <td>0.213639</td>\n",
       "      <td>4.8360</td>\n",
       "      <td>4.0100</td>\n",
       "      <td>0.8260</td>\n",
       "    </tr>\n",
       "    <tr>\n",
       "      <th>1</th>\n",
       "      <td>46268</td>\n",
       "      <td>1995</td>\n",
       "      <td>11069.0</td>\n",
       "      <td>3412.0</td>\n",
       "      <td>2350.0</td>\n",
       "      <td>4</td>\n",
       "      <td>0.199417</td>\n",
       "      <td>0.751880</td>\n",
       "      <td>0.248120</td>\n",
       "      <td>0.592869</td>\n",
       "      <td>6.2175</td>\n",
       "      <td>4.0100</td>\n",
       "      <td>2.2075</td>\n",
       "    </tr>\n",
       "    <tr>\n",
       "      <th>2</th>\n",
       "      <td>46217</td>\n",
       "      <td>1955</td>\n",
       "      <td>18992.0</td>\n",
       "      <td>2796.0</td>\n",
       "      <td>2152.0</td>\n",
       "      <td>2</td>\n",
       "      <td>-0.000912</td>\n",
       "      <td>0.800000</td>\n",
       "      <td>0.200000</td>\n",
       "      <td>0.310868</td>\n",
       "      <td>3.7100</td>\n",
       "      <td>4.5700</td>\n",
       "      <td>-0.8600</td>\n",
       "    </tr>\n",
       "    <tr>\n",
       "      <th>3</th>\n",
       "      <td>46239</td>\n",
       "      <td>2006</td>\n",
       "      <td>10759.0</td>\n",
       "      <td>4350.0</td>\n",
       "      <td>2680.0</td>\n",
       "      <td>4</td>\n",
       "      <td>-0.224450</td>\n",
       "      <td>0.751881</td>\n",
       "      <td>0.248119</td>\n",
       "      <td>0.573599</td>\n",
       "      <td>6.5240</td>\n",
       "      <td>3.6000</td>\n",
       "      <td>2.9240</td>\n",
       "    </tr>\n",
       "    <tr>\n",
       "      <th>4</th>\n",
       "      <td>46227</td>\n",
       "      <td>1957</td>\n",
       "      <td>13983.0</td>\n",
       "      <td>2966.0</td>\n",
       "      <td>1336.0</td>\n",
       "      <td>3</td>\n",
       "      <td>-0.122242</td>\n",
       "      <td>0.751882</td>\n",
       "      <td>0.248118</td>\n",
       "      <td>0.694784</td>\n",
       "      <td>6.1125</td>\n",
       "      <td>3.6940</td>\n",
       "      <td>2.4185</td>\n",
       "    </tr>\n",
       "    <tr>\n",
       "      <th>...</th>\n",
       "      <td>...</td>\n",
       "      <td>...</td>\n",
       "      <td>...</td>\n",
       "      <td>...</td>\n",
       "      <td>...</td>\n",
       "      <td>...</td>\n",
       "      <td>...</td>\n",
       "      <td>...</td>\n",
       "      <td>...</td>\n",
       "      <td>...</td>\n",
       "      <td>...</td>\n",
       "      <td>...</td>\n",
       "      <td>...</td>\n",
       "    </tr>\n",
       "    <tr>\n",
       "      <th>17990</th>\n",
       "      <td>46202</td>\n",
       "      <td>2006</td>\n",
       "      <td>5140.0</td>\n",
       "      <td>4344.0</td>\n",
       "      <td>2896.0</td>\n",
       "      <td>3</td>\n",
       "      <td>0.148407</td>\n",
       "      <td>0.751880</td>\n",
       "      <td>0.248120</td>\n",
       "      <td>0.575335</td>\n",
       "      <td>6.6820</td>\n",
       "      <td>3.6940</td>\n",
       "      <td>2.9880</td>\n",
       "    </tr>\n",
       "    <tr>\n",
       "      <th>17991</th>\n",
       "      <td>46254</td>\n",
       "      <td>1990</td>\n",
       "      <td>12632.0</td>\n",
       "      <td>2858.0</td>\n",
       "      <td>2329.0</td>\n",
       "      <td>4</td>\n",
       "      <td>0.051620</td>\n",
       "      <td>0.751880</td>\n",
       "      <td>0.248120</td>\n",
       "      <td>0.650586</td>\n",
       "      <td>7.0140</td>\n",
       "      <td>4.3375</td>\n",
       "      <td>2.6765</td>\n",
       "    </tr>\n",
       "    <tr>\n",
       "      <th>17992</th>\n",
       "      <td>46219</td>\n",
       "      <td>1954</td>\n",
       "      <td>7405.0</td>\n",
       "      <td>1808.0</td>\n",
       "      <td>904.0</td>\n",
       "      <td>2</td>\n",
       "      <td>0.083484</td>\n",
       "      <td>0.751880</td>\n",
       "      <td>0.248120</td>\n",
       "      <td>0.378805</td>\n",
       "      <td>7.9120</td>\n",
       "      <td>5.8675</td>\n",
       "      <td>2.0445</td>\n",
       "    </tr>\n",
       "    <tr>\n",
       "      <th>17993</th>\n",
       "      <td>46250</td>\n",
       "      <td>1987</td>\n",
       "      <td>5009.0</td>\n",
       "      <td>1527.0</td>\n",
       "      <td>1023.0</td>\n",
       "      <td>2</td>\n",
       "      <td>-0.311226</td>\n",
       "      <td>0.668340</td>\n",
       "      <td>0.331660</td>\n",
       "      <td>0.621432</td>\n",
       "      <td>6.6820</td>\n",
       "      <td>3.7100</td>\n",
       "      <td>2.9720</td>\n",
       "    </tr>\n",
       "    <tr>\n",
       "      <th>17994</th>\n",
       "      <td>46278</td>\n",
       "      <td>2006</td>\n",
       "      <td>22608.0</td>\n",
       "      <td>6741.0</td>\n",
       "      <td>5400.0</td>\n",
       "      <td>4</td>\n",
       "      <td>-1.044542</td>\n",
       "      <td>0.601479</td>\n",
       "      <td>0.398521</td>\n",
       "      <td>0.451123</td>\n",
       "      <td>6.2400</td>\n",
       "      <td>6.3200</td>\n",
       "      <td>-0.0800</td>\n",
       "    </tr>\n",
       "  </tbody>\n",
       "</table>\n",
       "<p>17875 rows × 13 columns</p>\n",
       "</div>"
      ],
      "text/plain": [
       "         zip  prop_yrbld  prop_landsqft  prop_bldsqft  prop_livingsqft  \\\n",
       "0      46217        2011         6926.0        2999.0           2399.0   \n",
       "1      46268        1995        11069.0        3412.0           2350.0   \n",
       "2      46217        1955        18992.0        2796.0           2152.0   \n",
       "3      46239        2006        10759.0        4350.0           2680.0   \n",
       "4      46227        1957        13983.0        2966.0           1336.0   \n",
       "...      ...         ...            ...           ...              ...   \n",
       "17990  46202        2006         5140.0        4344.0           2896.0   \n",
       "17991  46254        1990        12632.0        2858.0           2329.0   \n",
       "17992  46219        1954         7405.0        1808.0            904.0   \n",
       "17993  46250        1987         5009.0        1527.0           1023.0   \n",
       "17994  46278        2006        22608.0        6741.0           5400.0   \n",
       "\n",
       "       prop_bedrms  price increase/decrease  Loan Amount  starting equity  \\\n",
       "0                4                 0.122557     0.990105         0.009895   \n",
       "1                4                 0.199417     0.751880         0.248120   \n",
       "2                2                -0.000912     0.800000         0.200000   \n",
       "3                4                -0.224450     0.751881         0.248119   \n",
       "4                3                -0.122242     0.751882         0.248118   \n",
       "...            ...                      ...          ...              ...   \n",
       "17990            3                 0.148407     0.751880         0.248120   \n",
       "17991            4                 0.051620     0.751880         0.248120   \n",
       "17992            2                 0.083484     0.751880         0.248120   \n",
       "17993            2                -0.311226     0.668340         0.331660   \n",
       "17994            4                -1.044542     0.601479         0.398521   \n",
       "\n",
       "       ending equity  Starting Rate  Ending Rate  Rate Difference  \n",
       "0           0.213639         4.8360       4.0100           0.8260  \n",
       "1           0.592869         6.2175       4.0100           2.2075  \n",
       "2           0.310868         3.7100       4.5700          -0.8600  \n",
       "3           0.573599         6.5240       3.6000           2.9240  \n",
       "4           0.694784         6.1125       3.6940           2.4185  \n",
       "...              ...            ...          ...              ...  \n",
       "17990       0.575335         6.6820       3.6940           2.9880  \n",
       "17991       0.650586         7.0140       4.3375           2.6765  \n",
       "17992       0.378805         7.9120       5.8675           2.0445  \n",
       "17993       0.621432         6.6820       3.7100           2.9720  \n",
       "17994       0.451123         6.2400       6.3200          -0.0800  \n",
       "\n",
       "[17875 rows x 13 columns]"
      ]
     },
     "execution_count": 81,
     "metadata": {},
     "output_type": "execute_result"
    }
   ],
   "source": [
    "X"
   ]
  },
  {
   "cell_type": "code",
   "execution_count": 97,
   "metadata": {},
   "outputs": [
    {
     "data": {
      "text/plain": [
       "array([1900.])"
      ]
     },
     "execution_count": 97,
     "metadata": {},
     "output_type": "execute_result"
    }
   ],
   "source": [
    "x_min[:,1]"
   ]
  },
  {
   "cell_type": "code",
   "execution_count": 102,
   "metadata": {},
   "outputs": [
    {
     "data": {
      "text/plain": [
       "<matplotlib.collections.PathCollection at 0x7f913e1fe2e0>"
      ]
     },
     "execution_count": 102,
     "metadata": {},
     "output_type": "execute_result"
    },
    {
     "data": {
      "image/png": "[encoded data removed]",
      "text/plain": [
       "<Figure size 432x288 with 1 Axes>"
      ]
     },
     "metadata": {
      "needs_background": "light"
     },
     "output_type": "display_data"
    }
   ],
   "source": [
    "plt.scatter(X[[\"prop_yrbld\"]], y, c='blue')\n",
    "#plt.plot([x_min[:,1], x_max[:,1]], [y_min[0], y_max[0]], c='red')"
   ]
  },
  {
   "cell_type": "code",
   "execution_count": null,
   "metadata": {},
   "outputs": [],
   "source": []
  }
 ],
 "metadata": {
  "kernelspec": {
   "display_name": "Python 3",
   "language": "python",
   "name": "python3"
  },
  "language_info": {
   "codemirror_mode": {
    "name": "ipython",
    "version": 3
   },
   "file_extension": ".py",
   "mimetype": "text/x-python",
   "name": "python",
   "nbconvert_exporter": "python",
   "pygments_lexer": "ipython3",
   "version": "3.8.3"
  }
 },
 "nbformat": 4,
 "nbformat_minor": 4
}
