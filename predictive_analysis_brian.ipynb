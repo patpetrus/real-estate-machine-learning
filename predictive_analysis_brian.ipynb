{
 "cells": [
  {
   "cell_type": "code",
   "execution_count": 11,
   "metadata": {},
   "outputs": [],
   "source": [
    "import matplotlib.pyplot as plt\n",
    "import numpy as np\n",
    "import pandas as pd\n",
    "from numpy.random import seed\n",
    "seed(1)\n",
    "#import tensorflow\n",
    "#from sklearn.preprocessing import LabelEncoder, MinMaxScaler\n",
    "#from tensorflow.keras.utils import to_categorical\n",
    "#from tensorflow.keras.models import Sequential\n",
    "#from tensorflow.keras.layers import Dense"
   ]
  },
  {
   "cell_type": "code",
   "execution_count": 13,
   "metadata": {},
   "outputs": [
    {
     "ename": "XLRDError",
     "evalue": "Excel xlsx file; not supported",
     "output_type": "error",
     "traceback": [
      "\u001b[1;31m---------------------------------------------------------------------------\u001b[0m",
      "\u001b[1;31mXLRDError\u001b[0m                                 Traceback (most recent call last)",
      "\u001b[1;32m<ipython-input-13-2b6765c4d9ce>\u001b[0m in \u001b[0;36m<module>\u001b[1;34m\u001b[0m\n\u001b[1;32m----> 1\u001b[1;33m \u001b[0mhousing_data\u001b[0m \u001b[1;33m=\u001b[0m \u001b[0mpd\u001b[0m\u001b[1;33m.\u001b[0m\u001b[0mread_excel\u001b[0m\u001b[1;33m(\u001b[0m\u001b[1;34m'finalcolumns.xlsx'\u001b[0m\u001b[1;33m)\u001b[0m\u001b[1;33m\u001b[0m\u001b[1;33m\u001b[0m\u001b[0m\n\u001b[0m\u001b[0;32m      2\u001b[0m \u001b[0mprint\u001b[0m\u001b[1;33m(\u001b[0m\u001b[0mhousing_data\u001b[0m\u001b[1;33m)\u001b[0m\u001b[1;33m\u001b[0m\u001b[1;33m\u001b[0m\u001b[0m\n",
      "\u001b[1;32m~\\anaconda3\\envs\\PythonData\\lib\\site-packages\\pandas\\io\\excel\\_base.py\u001b[0m in \u001b[0;36mread_excel\u001b[1;34m(io, sheet_name, header, names, index_col, usecols, squeeze, dtype, engine, converters, true_values, false_values, skiprows, nrows, na_values, keep_default_na, verbose, parse_dates, date_parser, thousands, comment, skipfooter, convert_float, mangle_dupe_cols, **kwds)\u001b[0m\n\u001b[0;32m    302\u001b[0m \u001b[1;33m\u001b[0m\u001b[0m\n\u001b[0;32m    303\u001b[0m     \u001b[1;32mif\u001b[0m \u001b[1;32mnot\u001b[0m \u001b[0misinstance\u001b[0m\u001b[1;33m(\u001b[0m\u001b[0mio\u001b[0m\u001b[1;33m,\u001b[0m \u001b[0mExcelFile\u001b[0m\u001b[1;33m)\u001b[0m\u001b[1;33m:\u001b[0m\u001b[1;33m\u001b[0m\u001b[1;33m\u001b[0m\u001b[0m\n\u001b[1;32m--> 304\u001b[1;33m         \u001b[0mio\u001b[0m \u001b[1;33m=\u001b[0m \u001b[0mExcelFile\u001b[0m\u001b[1;33m(\u001b[0m\u001b[0mio\u001b[0m\u001b[1;33m,\u001b[0m \u001b[0mengine\u001b[0m\u001b[1;33m=\u001b[0m\u001b[0mengine\u001b[0m\u001b[1;33m)\u001b[0m\u001b[1;33m\u001b[0m\u001b[1;33m\u001b[0m\u001b[0m\n\u001b[0m\u001b[0;32m    305\u001b[0m     \u001b[1;32melif\u001b[0m \u001b[0mengine\u001b[0m \u001b[1;32mand\u001b[0m \u001b[0mengine\u001b[0m \u001b[1;33m!=\u001b[0m \u001b[0mio\u001b[0m\u001b[1;33m.\u001b[0m\u001b[0mengine\u001b[0m\u001b[1;33m:\u001b[0m\u001b[1;33m\u001b[0m\u001b[1;33m\u001b[0m\u001b[0m\n\u001b[0;32m    306\u001b[0m         raise ValueError(\n",
      "\u001b[1;32m~\\anaconda3\\envs\\PythonData\\lib\\site-packages\\pandas\\io\\excel\\_base.py\u001b[0m in \u001b[0;36m__init__\u001b[1;34m(self, io, engine)\u001b[0m\n\u001b[0;32m    822\u001b[0m         \u001b[0mself\u001b[0m\u001b[1;33m.\u001b[0m\u001b[0m_io\u001b[0m \u001b[1;33m=\u001b[0m \u001b[0mstringify_path\u001b[0m\u001b[1;33m(\u001b[0m\u001b[0mio\u001b[0m\u001b[1;33m)\u001b[0m\u001b[1;33m\u001b[0m\u001b[1;33m\u001b[0m\u001b[0m\n\u001b[0;32m    823\u001b[0m \u001b[1;33m\u001b[0m\u001b[0m\n\u001b[1;32m--> 824\u001b[1;33m         \u001b[0mself\u001b[0m\u001b[1;33m.\u001b[0m\u001b[0m_reader\u001b[0m \u001b[1;33m=\u001b[0m \u001b[0mself\u001b[0m\u001b[1;33m.\u001b[0m\u001b[0m_engines\u001b[0m\u001b[1;33m[\u001b[0m\u001b[0mengine\u001b[0m\u001b[1;33m]\u001b[0m\u001b[1;33m(\u001b[0m\u001b[0mself\u001b[0m\u001b[1;33m.\u001b[0m\u001b[0m_io\u001b[0m\u001b[1;33m)\u001b[0m\u001b[1;33m\u001b[0m\u001b[1;33m\u001b[0m\u001b[0m\n\u001b[0m\u001b[0;32m    825\u001b[0m \u001b[1;33m\u001b[0m\u001b[0m\n\u001b[0;32m    826\u001b[0m     \u001b[1;32mdef\u001b[0m \u001b[0m__fspath__\u001b[0m\u001b[1;33m(\u001b[0m\u001b[0mself\u001b[0m\u001b[1;33m)\u001b[0m\u001b[1;33m:\u001b[0m\u001b[1;33m\u001b[0m\u001b[1;33m\u001b[0m\u001b[0m\n",
      "\u001b[1;32m~\\anaconda3\\envs\\PythonData\\lib\\site-packages\\pandas\\io\\excel\\_xlrd.py\u001b[0m in \u001b[0;36m__init__\u001b[1;34m(self, filepath_or_buffer)\u001b[0m\n\u001b[0;32m     19\u001b[0m         \u001b[0merr_msg\u001b[0m \u001b[1;33m=\u001b[0m \u001b[1;34m\"Install xlrd >= 1.0.0 for Excel support\"\u001b[0m\u001b[1;33m\u001b[0m\u001b[1;33m\u001b[0m\u001b[0m\n\u001b[0;32m     20\u001b[0m         \u001b[0mimport_optional_dependency\u001b[0m\u001b[1;33m(\u001b[0m\u001b[1;34m\"xlrd\"\u001b[0m\u001b[1;33m,\u001b[0m \u001b[0mextra\u001b[0m\u001b[1;33m=\u001b[0m\u001b[0merr_msg\u001b[0m\u001b[1;33m)\u001b[0m\u001b[1;33m\u001b[0m\u001b[1;33m\u001b[0m\u001b[0m\n\u001b[1;32m---> 21\u001b[1;33m         \u001b[0msuper\u001b[0m\u001b[1;33m(\u001b[0m\u001b[1;33m)\u001b[0m\u001b[1;33m.\u001b[0m\u001b[0m__init__\u001b[0m\u001b[1;33m(\u001b[0m\u001b[0mfilepath_or_buffer\u001b[0m\u001b[1;33m)\u001b[0m\u001b[1;33m\u001b[0m\u001b[1;33m\u001b[0m\u001b[0m\n\u001b[0m\u001b[0;32m     22\u001b[0m \u001b[1;33m\u001b[0m\u001b[0m\n\u001b[0;32m     23\u001b[0m     \u001b[1;33m@\u001b[0m\u001b[0mproperty\u001b[0m\u001b[1;33m\u001b[0m\u001b[1;33m\u001b[0m\u001b[0m\n",
      "\u001b[1;32m~\\anaconda3\\envs\\PythonData\\lib\\site-packages\\pandas\\io\\excel\\_base.py\u001b[0m in \u001b[0;36m__init__\u001b[1;34m(self, filepath_or_buffer)\u001b[0m\n\u001b[0;32m    351\u001b[0m             \u001b[0mself\u001b[0m\u001b[1;33m.\u001b[0m\u001b[0mbook\u001b[0m \u001b[1;33m=\u001b[0m \u001b[0mself\u001b[0m\u001b[1;33m.\u001b[0m\u001b[0mload_workbook\u001b[0m\u001b[1;33m(\u001b[0m\u001b[0mfilepath_or_buffer\u001b[0m\u001b[1;33m)\u001b[0m\u001b[1;33m\u001b[0m\u001b[1;33m\u001b[0m\u001b[0m\n\u001b[0;32m    352\u001b[0m         \u001b[1;32melif\u001b[0m \u001b[0misinstance\u001b[0m\u001b[1;33m(\u001b[0m\u001b[0mfilepath_or_buffer\u001b[0m\u001b[1;33m,\u001b[0m \u001b[0mstr\u001b[0m\u001b[1;33m)\u001b[0m\u001b[1;33m:\u001b[0m\u001b[1;33m\u001b[0m\u001b[1;33m\u001b[0m\u001b[0m\n\u001b[1;32m--> 353\u001b[1;33m             \u001b[0mself\u001b[0m\u001b[1;33m.\u001b[0m\u001b[0mbook\u001b[0m \u001b[1;33m=\u001b[0m \u001b[0mself\u001b[0m\u001b[1;33m.\u001b[0m\u001b[0mload_workbook\u001b[0m\u001b[1;33m(\u001b[0m\u001b[0mfilepath_or_buffer\u001b[0m\u001b[1;33m)\u001b[0m\u001b[1;33m\u001b[0m\u001b[1;33m\u001b[0m\u001b[0m\n\u001b[0m\u001b[0;32m    354\u001b[0m         \u001b[1;32melif\u001b[0m \u001b[0misinstance\u001b[0m\u001b[1;33m(\u001b[0m\u001b[0mfilepath_or_buffer\u001b[0m\u001b[1;33m,\u001b[0m \u001b[0mbytes\u001b[0m\u001b[1;33m)\u001b[0m\u001b[1;33m:\u001b[0m\u001b[1;33m\u001b[0m\u001b[1;33m\u001b[0m\u001b[0m\n\u001b[0;32m    355\u001b[0m             \u001b[0mself\u001b[0m\u001b[1;33m.\u001b[0m\u001b[0mbook\u001b[0m \u001b[1;33m=\u001b[0m \u001b[0mself\u001b[0m\u001b[1;33m.\u001b[0m\u001b[0mload_workbook\u001b[0m\u001b[1;33m(\u001b[0m\u001b[0mBytesIO\u001b[0m\u001b[1;33m(\u001b[0m\u001b[0mfilepath_or_buffer\u001b[0m\u001b[1;33m)\u001b[0m\u001b[1;33m)\u001b[0m\u001b[1;33m\u001b[0m\u001b[1;33m\u001b[0m\u001b[0m\n",
      "\u001b[1;32m~\\anaconda3\\envs\\PythonData\\lib\\site-packages\\pandas\\io\\excel\\_xlrd.py\u001b[0m in \u001b[0;36mload_workbook\u001b[1;34m(self, filepath_or_buffer)\u001b[0m\n\u001b[0;32m     34\u001b[0m             \u001b[1;32mreturn\u001b[0m \u001b[0mopen_workbook\u001b[0m\u001b[1;33m(\u001b[0m\u001b[0mfile_contents\u001b[0m\u001b[1;33m=\u001b[0m\u001b[0mdata\u001b[0m\u001b[1;33m)\u001b[0m\u001b[1;33m\u001b[0m\u001b[1;33m\u001b[0m\u001b[0m\n\u001b[0;32m     35\u001b[0m         \u001b[1;32melse\u001b[0m\u001b[1;33m:\u001b[0m\u001b[1;33m\u001b[0m\u001b[1;33m\u001b[0m\u001b[0m\n\u001b[1;32m---> 36\u001b[1;33m             \u001b[1;32mreturn\u001b[0m \u001b[0mopen_workbook\u001b[0m\u001b[1;33m(\u001b[0m\u001b[0mfilepath_or_buffer\u001b[0m\u001b[1;33m)\u001b[0m\u001b[1;33m\u001b[0m\u001b[1;33m\u001b[0m\u001b[0m\n\u001b[0m\u001b[0;32m     37\u001b[0m \u001b[1;33m\u001b[0m\u001b[0m\n\u001b[0;32m     38\u001b[0m     \u001b[1;33m@\u001b[0m\u001b[0mproperty\u001b[0m\u001b[1;33m\u001b[0m\u001b[1;33m\u001b[0m\u001b[0m\n",
      "\u001b[1;32m~\\anaconda3\\envs\\PythonData\\lib\\site-packages\\xlrd\\__init__.py\u001b[0m in \u001b[0;36mopen_workbook\u001b[1;34m(filename, logfile, verbosity, use_mmap, file_contents, encoding_override, formatting_info, on_demand, ragged_rows, ignore_workbook_corruption)\u001b[0m\n\u001b[0;32m    168\u001b[0m     \u001b[1;31m# files that xlrd can parse don't start with the expected signature.\u001b[0m\u001b[1;33m\u001b[0m\u001b[1;33m\u001b[0m\u001b[1;33m\u001b[0m\u001b[0m\n\u001b[0;32m    169\u001b[0m     \u001b[1;32mif\u001b[0m \u001b[0mfile_format\u001b[0m \u001b[1;32mand\u001b[0m \u001b[0mfile_format\u001b[0m \u001b[1;33m!=\u001b[0m \u001b[1;34m'xls'\u001b[0m\u001b[1;33m:\u001b[0m\u001b[1;33m\u001b[0m\u001b[1;33m\u001b[0m\u001b[0m\n\u001b[1;32m--> 170\u001b[1;33m         \u001b[1;32mraise\u001b[0m \u001b[0mXLRDError\u001b[0m\u001b[1;33m(\u001b[0m\u001b[0mFILE_FORMAT_DESCRIPTIONS\u001b[0m\u001b[1;33m[\u001b[0m\u001b[0mfile_format\u001b[0m\u001b[1;33m]\u001b[0m\u001b[1;33m+\u001b[0m\u001b[1;34m'; not supported'\u001b[0m\u001b[1;33m)\u001b[0m\u001b[1;33m\u001b[0m\u001b[1;33m\u001b[0m\u001b[0m\n\u001b[0m\u001b[0;32m    171\u001b[0m \u001b[1;33m\u001b[0m\u001b[0m\n\u001b[0;32m    172\u001b[0m     bk = open_workbook_xls(\n",
      "\u001b[1;31mXLRDError\u001b[0m: Excel xlsx file; not supported"
     ]
    }
   ],
   "source": [
    "housing_data = pd.read_excel('finalcolumns.xlsx')\n",
    "housing_data"
   ]
  },
  {
   "cell_type": "code",
   "execution_count": null,
   "metadata": {},
   "outputs": [],
   "source": [
    "housing_data = pd.get_dummies(housing_data)\n",
    "housing_data"
   ]
  },
  {
   "cell_type": "code",
   "execution_count": null,
   "metadata": {},
   "outputs": [],
   "source": [
    "housing_data_dropna = housing_data.dropna()\n",
    "housing_data_latlong = housing_data_dropna[['prop_latitude', 'prop_longitude']]\n",
    "housing_data_dropped = housing_data_dropna.drop(columns=['prop_latitude', 'prop_longitude'])\n",
    "housing_data_dropped\n",
    "#housing_data_latlong"
   ]
  },
  {
   "cell_type": "code",
   "execution_count": null,
   "metadata": {},
   "outputs": [],
   "source": [
    "X = housing_data_dropped[['zip', 'prop_yrbld', 'prop_landsqft', 'prop_bldsqft', 'prop_livingsqft', 'prop_bedrms', 'price increase/decrease', 'Loan Amount', 'starting equity', 'ending equity', 'Starting Rate', 'Ending Rate', 'Rate Difference']]\n",
    "y = housing_data_dropped[\"Duration prior\"].values.reshape(-1, 1)\n",
    "print(X.shape, y.shape)"
   ]
  },
  {
   "cell_type": "code",
   "execution_count": null,
   "metadata": {},
   "outputs": [],
   "source": [
    "df_X = pd.DataFrame(X)\n",
    "df_X"
   ]
  },
  {
   "cell_type": "code",
   "execution_count": null,
   "metadata": {},
   "outputs": [],
   "source": [
    "from sklearn.model_selection import train_test_split\n",
    "X_train, X_test, y_train, y_test = train_test_split(X, y, random_state=42)"
   ]
  },
  {
   "cell_type": "code",
   "execution_count": null,
   "metadata": {},
   "outputs": [],
   "source": [
    "from sklearn.preprocessing import StandardScaler\n",
    "X_scaler = StandardScaler().fit(X_train)\n",
    "y_scaler = StandardScaler().fit(y_train)"
   ]
  },
  {
   "cell_type": "code",
   "execution_count": null,
   "metadata": {},
   "outputs": [],
   "source": [
    "X_train_scaled = X_scaler.transform(X_train)\n",
    "X_test_scaled = X_scaler.transform(X_test)\n",
    "y_train_scaled = y_scaler.transform(y_train)\n",
    "y_test_scaled = y_scaler.transform(y_test)"
   ]
  },
  {
   "cell_type": "code",
<<<<<<< HEAD
   "execution_count": 10,
   "metadata": {},
   "outputs": [
    {
     "data": {
      "text/plain": [
       "LinearRegression()"
      ]
     },
     "execution_count": 10,
     "metadata": {},
     "output_type": "execute_result"
    }
   ],
=======
   "execution_count": null,
   "metadata": {},
   "outputs": [],
>>>>>>> 4db026769108da2ea5ac7c8c2e2d17db92cecac5
   "source": [
    "from sklearn.linear_model import LinearRegression\n",
    "model = LinearRegression()\n",
    "model.fit(X_train, y_train)"
   ]
  },
  {
   "cell_type": "code",
<<<<<<< HEAD
   "execution_count": 11,
   "metadata": {},
   "outputs": [
    {
     "data": {
      "text/plain": [
       "0.9983184642651523"
      ]
     },
     "execution_count": 11,
     "metadata": {},
     "output_type": "execute_result"
    }
   ],
=======
   "execution_count": null,
   "metadata": {},
   "outputs": [],
>>>>>>> 4db026769108da2ea5ac7c8c2e2d17db92cecac5
   "source": [
    "model.score(X_train, y_train)"
   ]
  },
  {
   "cell_type": "code",
<<<<<<< HEAD
   "execution_count": 12,
   "metadata": {},
   "outputs": [
    {
     "data": {
      "text/plain": [
       "0.9962537233256444"
      ]
     },
     "execution_count": 12,
     "metadata": {},
     "output_type": "execute_result"
    }
   ],
=======
   "execution_count": null,
   "metadata": {},
   "outputs": [],
>>>>>>> 4db026769108da2ea5ac7c8c2e2d17db92cecac5
   "source": [
    "model.score(X_test, y_test)"
   ]
  },
  {
   "cell_type": "code",
   "execution_count": null,
   "metadata": {},
   "outputs": [],
   "source": [
    "# from sklearn.metrics import mean_squared_error\n",
    "# MSE = mean_squared_error(y_test_scaled, predictions)\n",
    "# r2 = model.score(X_test_scaled, y_test_scaled)\n",
    "# print(f\"MSE: {MSE}, R2: {r2}\")"
   ]
  },
  {
   "cell_type": "code",
   "execution_count": null,
   "metadata": {},
   "outputs": [],
   "source": [
    "from sklearn.linear_model import Ridge\n",
    "ridge = Ridge(alpha=.01).fit(X_train_scaled, y_train_scaled)\n",
    "\n",
    "predictions = ridge.predict(X_test_scaled)\n",
    "\n",
    "MSE = mean_squared_error(y_test_scaled, predictions)\n",
    "r2 = ridge.score(X_test_scaled, y_test_scaled)\n",
    "\n",
    "\n",
    "print(f\"MSE: {MSE}, R2: {r2}\")"
   ]
  },
  {
   "cell_type": "code",
   "execution_count": null,
   "metadata": {},
   "outputs": [],
   "source": [
    "from sklearn.linear_model import ElasticNet\n",
    "\n",
    "elasticnet = ElasticNet(alpha=.01).fit(X_train_scaled, y_train_scaled)\n",
    "\n",
    "predictions = elasticnet.predict(X_test_scaled)\n",
    "\n",
    "MSE = mean_squared_error(y_test_scaled, predictions)\n",
    "r2 = elasticnet.score(X_test_scaled, y_test_scaled)\n",
    "\n",
    "print(f\"MSE: {MSE}, R2: {r2}\")"
   ]
  },
  {
   "cell_type": "code",
<<<<<<< HEAD
   "execution_count": 16,
   "metadata": {},
   "outputs": [
    {
     "data": {
      "text/plain": [
       "array([[1142.48638532],\n",
       "       [1671.36837325],\n",
       "       [5950.5515631 ],\n",
       "       ...,\n",
       "       [3332.67617365],\n",
       "       [1023.14091386],\n",
       "       [ 258.37872556]])"
      ]
     },
     "execution_count": 16,
     "metadata": {},
     "output_type": "execute_result"
    }
   ],
=======
   "execution_count": null,
   "metadata": {},
   "outputs": [],
>>>>>>> 4db026769108da2ea5ac7c8c2e2d17db92cecac5
   "source": [
    "model.predict(X_test)"
   ]
  },
  {
   "cell_type": "code",
   "execution_count": null,
   "metadata": {},
   "outputs": [],
   "source": [
    "X.shape"
   ]
  },
  {
   "cell_type": "code",
   "execution_count": null,
   "metadata": {},
   "outputs": [],
   "source": [
    "y"
   ]
  },
  {
   "cell_type": "code",
   "execution_count": null,
   "metadata": {},
   "outputs": [],
   "source": [
    "y.shape"
   ]
  },
  {
   "cell_type": "code",
   "execution_count": null,
   "metadata": {},
   "outputs": [],
   "source": [
    "df_y = pd.DataFrame(y)\n",
    "df_y"
   ]
  },
  {
   "cell_type": "code",
   "execution_count": null,
   "metadata": {},
   "outputs": [],
   "source": [
    "latlong_df = df_X.join(housing_data_latlong, how=\"outer\")\n",
    "latlong_df"
   ]
  },
  {
   "cell_type": "code",
   "execution_count": null,
   "metadata": {},
   "outputs": [],
   "source": [
    "appended_df = latlong_df.join(df_y, how=\"outer\")\n",
    "appended_df"
   ]
  },
  {
   "cell_type": "code",
   "execution_count": null,
   "metadata": {},
   "outputs": [],
   "source": [
    "appended_df_dropped = appended_df.dropna()\n",
    "appended_df_dropped"
   ]
  },
  {
   "cell_type": "code",
   "execution_count": null,
   "metadata": {},
   "outputs": [],
   "source": [
    "appended_df_dropped.to_excel('appendedfinal.xlsx', index=False)"
   ]
  },
  {
   "cell_type": "code",
   "execution_count": null,
   "metadata": {},
<<<<<<< HEAD
   "outputs": [
    {
     "data": {
      "text/plain": [
       "0.9977989895170936"
      ]
     },
     "execution_count": 25,
     "metadata": {},
     "output_type": "execute_result"
    }
   ],
=======
   "outputs": [],
>>>>>>> 4db026769108da2ea5ac7c8c2e2d17db92cecac5
   "source": [
    "model.score(X,y)"
   ]
  },
  {
   "cell_type": "code",
   "execution_count": null,
   "metadata": {},
<<<<<<< HEAD
   "outputs": [
    {
     "name": "stdout",
     "output_type": "stream",
     "text": [
      "Weight coefficients:  [[-1.46967043e-02 -3.65930518e-02 -6.67155235e-09 -1.62199307e-03\n",
      "   7.62561410e-04 -5.61179321e-01  2.10134486e-03  5.46174721e+03\n",
      "  -5.46174721e+03  1.09252337e+04  2.25326599e-01 -1.35259798e+00\n",
      "   1.57792458e+00]]\n",
      "y-axis intercept:  [-4696.39012878]\n"
     ]
    }
   ],
=======
   "outputs": [],
>>>>>>> 4db026769108da2ea5ac7c8c2e2d17db92cecac5
   "source": [
    "print('Weight coefficients: ', model.coef_)\n",
    "print('y-axis intercept: ', model.intercept_)"
   ]
  },
  {
   "cell_type": "code",
   "execution_count": null,
   "metadata": {},
   "outputs": [],
   "source": [
    "np.array([X.min()]).shape"
   ]
  },
  {
   "cell_type": "code",
   "execution_count": null,
   "metadata": {},
   "outputs": [],
   "source": [
    "X.min()"
   ]
  },
  {
   "cell_type": "code",
   "execution_count": null,
   "metadata": {},
   "outputs": [],
   "source": [
    "x_min = np.array([X.min()])\n",
    "x_max = np.array([X.max()])\n",
    "print(f\"Min X Value: {x_min}\")\n",
    "print(f\"Max X Value: {x_max}\")"
   ]
  },
  {
   "cell_type": "code",
   "execution_count": null,
   "metadata": {},
   "outputs": [],
   "source": [
    "y_min = model.predict(x_min)\n",
    "y_max = model.predict(x_max)"
   ]
  },
  {
   "cell_type": "code",
   "execution_count": null,
   "metadata": {},
   "outputs": [],
   "source": [
    "x_min.shape, x_max.shape, y_min.shape, y_max.shape, X.shape, y.shape"
   ]
  },
  {
   "cell_type": "code",
   "execution_count": null,
   "metadata": {
    "scrolled": true
   },
   "outputs": [],
   "source": [
    "X"
   ]
  },
  {
   "cell_type": "code",
   "execution_count": null,
   "metadata": {},
   "outputs": [],
   "source": [
    "x_min[:,1]"
   ]
  },
  {
   "cell_type": "code",
<<<<<<< HEAD
   "execution_count": 62,
   "metadata": {},
   "outputs": [
    {
     "data": {
      "text/plain": [
       "<matplotlib.collections.PathCollection at 0x7fe0054a2ca0>"
      ]
     },
     "execution_count": 62,
     "metadata": {},
     "output_type": "execute_result"
    },
    {
     "data": {
      "image/png": "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\n",
      "text/plain": [
       "<Figure size 432x288 with 1 Axes>"
      ]
     },
     "metadata": {
      "needs_background": "light"
     },
     "output_type": "display_data"
    }
   ],
=======
   "execution_count": null,
   "metadata": {},
   "outputs": [],
>>>>>>> 4db026769108da2ea5ac7c8c2e2d17db92cecac5
   "source": [
    "plt.scatter(X[[\"Rate Difference\"]], y, c='blue')\n",
    "#plt.plot([x_min[:,12], x_max[:,12]], [y_min[0], y_max[0]], c='red')\n"
   ]
  },
  {
   "cell_type": "code",
   "execution_count": null,
   "metadata": {},
   "outputs": [],
   "source": [
    "import pickle"
   ]
  },
  {
   "cell_type": "code",
   "execution_count": null,
   "metadata": {},
   "outputs": [],
   "source": [
    "filename = 'finalized_model1.csv'\n",
    "pickle.dump(model, open(filename, 'wb'))"
   ]
  },
  {
   "cell_type": "code",
   "execution_count": 10,
   "metadata": {},
   "outputs": [
    {
<<<<<<< HEAD
     "data": {
      "text/plain": [
       "array([[-1.46967043e-02, -3.65930518e-02, -6.67155235e-09,\n",
       "        -1.62199307e-03,  7.62561410e-04, -5.61179321e-01,\n",
       "         2.10134486e-03,  5.46174721e+03, -5.46174721e+03,\n",
       "         1.09252337e+04,  2.25326599e-01, -1.35259798e+00,\n",
       "         1.57792458e+00]])"
      ]
     },
     "execution_count": 37,
     "metadata": {},
     "output_type": "execute_result"
=======
     "ename": "NameError",
     "evalue": "name 'model' is not defined",
     "output_type": "error",
     "traceback": [
      "\u001b[1;31m---------------------------------------------------------------------------\u001b[0m",
      "\u001b[1;31mNameError\u001b[0m                                 Traceback (most recent call last)",
      "\u001b[1;32m<ipython-input-10-4650e3f7c16c>\u001b[0m in \u001b[0;36m<module>\u001b[1;34m\u001b[0m\n\u001b[1;32m----> 1\u001b[1;33m \u001b[0mmodel\u001b[0m\u001b[1;33m.\u001b[0m\u001b[0mcoef_\u001b[0m\u001b[1;33m\u001b[0m\u001b[1;33m\u001b[0m\u001b[0m\n\u001b[0m",
      "\u001b[1;31mNameError\u001b[0m: name 'model' is not defined"
     ]
>>>>>>> 4db026769108da2ea5ac7c8c2e2d17db92cecac5
    }
   ],
   "source": [
    "model.coef_"
   ]
  },
  {
   "cell_type": "code",
   "execution_count": null,
   "metadata": {},
   "outputs": [],
   "source": [
    "X.columns"
   ]
  },
  {
   "cell_type": "code",
<<<<<<< HEAD
   "execution_count": 39,
=======
   "execution_count": null,
>>>>>>> 4db026769108da2ea5ac7c8c2e2d17db92cecac5
   "metadata": {},
   "outputs": [],
   "source": [
    "coef,col = list(model.coef_),list(X.columns)"
   ]
  },
  {
   "cell_type": "code",
<<<<<<< HEAD
   "execution_count": 40,
   "metadata": {},
   "outputs": [
    {
     "name": "stdout",
     "output_type": "stream",
     "text": [
      "[(array([-1.46967043e-02, -3.65930518e-02, -6.67155235e-09, -1.62199307e-03,\n",
      "        7.62561410e-04, -5.61179321e-01,  2.10134486e-03,  5.46174721e+03,\n",
      "       -5.46174721e+03,  1.09252337e+04,  2.25326599e-01, -1.35259798e+00,\n",
      "        1.57792458e+00]), 'zip')]\n"
     ]
    }
   ],
=======
   "execution_count": null,
   "metadata": {},
   "outputs": [],
>>>>>>> 4db026769108da2ea5ac7c8c2e2d17db92cecac5
   "source": [
    "print(list(zip(model.coef_, list(X.columns))))"
   ]
  },
  {
   "cell_type": "code",
<<<<<<< HEAD
   "execution_count": 55,
   "metadata": {},
   "outputs": [
    {
     "name": "stdout",
     "output_type": "stream",
     "text": [
      "(-0.014696704301602716, 'zip')\n",
      "(-0.036593051832993384, 'prop_yrbld')\n",
      "(-6.671552349748813e-09, 'prop_landsqft')\n",
      "(-0.0016219930739201634, 'prop_bldsqft')\n",
      "(0.0007625614098215509, 'prop_livingsqft')\n",
      "(-0.5611793206557806, 'prop_bedrms')\n",
      "(0.00210134485838423, 'price increase/decrease')\n",
      "(5461.747206951571, 'Loan Amount')\n",
      "(-5461.74720695158, 'starting equity')\n",
      "(10925.233746543374, 'ending equity')\n",
      "(0.22532659897781782, 'Starting Rate')\n",
      "(-1.3525979846817289, 'Ending Rate')\n",
      "(1.5779245836810782, 'Rate Difference')\n"
     ]
    }
   ],
   "source": [
    "result = zip(coef[0],col)\n",
    "#print(list(result))\n",
    "for elem in result:\n",
    "       print(elem) "
=======
   "execution_count": null,
   "metadata": {},
   "outputs": [],
   "source": [
    "result = zip(coef[0],col)\n",
    "print(list.loc[0](result))"
>>>>>>> 4db026769108da2ea5ac7c8c2e2d17db92cecac5
   ]
  },
  {
   "cell_type": "code",
<<<<<<< HEAD
   "execution_count": 42,
   "metadata": {},
   "outputs": [
    {
     "data": {
      "text/plain": [
       "zip"
      ]
     },
     "execution_count": 42,
     "metadata": {},
     "output_type": "execute_result"
    }
   ],
=======
   "execution_count": null,
   "metadata": {},
   "outputs": [],
>>>>>>> 4db026769108da2ea5ac7c8c2e2d17db92cecac5
   "source": [
    "type(result)"
   ]
  },
  {
   "cell_type": "code",
<<<<<<< HEAD
   "execution_count": 43,
   "metadata": {},
   "outputs": [
    {
     "data": {
      "text/plain": [
       "(13, 13)"
      ]
     },
     "execution_count": 43,
     "metadata": {},
     "output_type": "execute_result"
    }
   ],
=======
   "execution_count": null,
   "metadata": {},
   "outputs": [],
>>>>>>> 4db026769108da2ea5ac7c8c2e2d17db92cecac5
   "source": [
    "len(coef[0]),len(col)"
   ]
  },
  {
   "cell_type": "code",
<<<<<<< HEAD
   "execution_count": 44,
   "metadata": {},
   "outputs": [
    {
     "data": {
      "text/plain": [
       "array([-1.46967043e-02, -3.65930518e-02, -6.67155235e-09, -1.62199307e-03,\n",
       "        7.62561410e-04, -5.61179321e-01,  2.10134486e-03,  5.46174721e+03,\n",
       "       -5.46174721e+03,  1.09252337e+04,  2.25326599e-01, -1.35259798e+00,\n",
       "        1.57792458e+00])"
      ]
     },
     "execution_count": 44,
     "metadata": {},
     "output_type": "execute_result"
    }
   ],
=======
   "execution_count": null,
   "metadata": {},
   "outputs": [],
>>>>>>> 4db026769108da2ea5ac7c8c2e2d17db92cecac5
   "source": [
    "coef[0]"
   ]
  },
  {
   "cell_type": "code",
<<<<<<< HEAD
   "execution_count": 45,
   "metadata": {},
   "outputs": [
    {
     "data": {
      "text/plain": [
       "array([[-0.73021026],\n",
       "       [-0.39213833],\n",
       "       [ 2.36192678],\n",
       "       ...,\n",
       "       [ 0.67542343],\n",
       "       [-0.80862238],\n",
       "       [-1.30223312]])"
      ]
     },
     "execution_count": 45,
     "metadata": {},
     "output_type": "execute_result"
    }
   ],
=======
   "execution_count": null,
   "metadata": {},
   "outputs": [],
>>>>>>> 4db026769108da2ea5ac7c8c2e2d17db92cecac5
   "source": [
    "y_test_scaled"
   ]
  },
  {
   "cell_type": "code",
<<<<<<< HEAD
   "execution_count": 46,
   "metadata": {},
   "outputs": [
    {
     "data": {
      "text/plain": [
       "array([[2231],\n",
       "       [3775],\n",
       "       [1214],\n",
       "       ...,\n",
       "       [1431],\n",
       "       [3173],\n",
       "       [ 576]])"
      ]
     },
     "execution_count": 46,
     "metadata": {},
     "output_type": "execute_result"
    }
   ],
=======
   "execution_count": null,
   "metadata": {},
   "outputs": [],
>>>>>>> 4db026769108da2ea5ac7c8c2e2d17db92cecac5
   "source": [
    "y"
   ]
  },
  {
   "cell_type": "code",
   "execution_count": null,
   "metadata": {},
   "outputs": [],
   "source": []
  }
 ],
 "metadata": {
  "kernelspec": {
   "display_name": "Python 3",
   "language": "python",
   "name": "python3"
  },
  "language_info": {
   "codemirror_mode": {
    "name": "ipython",
    "version": 3
   },
   "file_extension": ".py",
   "mimetype": "text/x-python",
   "name": "python",
   "nbconvert_exporter": "python",
   "pygments_lexer": "ipython3",
   "version": "3.6.10"
  }
 },
 "nbformat": 4,
 "nbformat_minor": 4
}
